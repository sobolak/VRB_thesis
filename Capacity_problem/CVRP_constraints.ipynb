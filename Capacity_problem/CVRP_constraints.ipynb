{
  "cells": [
    {
      "cell_type": "code",
      "execution_count": 2,
      "metadata": {
        "colab": {
          "base_uri": "https://localhost:8080/"
        },
        "id": "ICWMQpwe7xCF",
        "outputId": "99e5d962-dba2-45c3-83c0-4f73f16f4200"
      },
      "outputs": [
        {
          "output_type": "stream",
          "name": "stderr",
          "text": [
            "Downloading...\n",
            "From (original): https://drive.google.com/uc?id=1zq17RENYLU1qrE2gNPsxRAPoysWMZAqf\n",
            "From (redirected): https://drive.google.com/uc?id=1zq17RENYLU1qrE2gNPsxRAPoysWMZAqf&confirm=t&uuid=e5afa0d0-1015-41c7-896a-6e0deb2cb1d4\n",
            "To: /content/mpsis_setup.py\n",
            "100%|██████████| 12.1k/12.1k [00:00<00:00, 9.19MB/s]\n"
          ]
        },
        {
          "output_type": "stream",
          "name": "stdout",
          "text": [
            "Mounted at /content/drive\n"
          ]
        }
      ],
      "source": [
        "import gdown\n",
        "import matplotlib.pyplot as plt\n",
        "import networkx as nx\n",
        "import numpy as np\n",
        "import pprint\n",
        "import random\n",
        "import pandas as pd\n",
        "import pulp\n",
        "import itertools\n",
        "import requests\n",
        "import random\n",
        "from geopy.distance import geodesic\n",
        "import time\n",
        "import pandas as pd\n",
        "import os"
      ]
    },
    {
      "cell_type": "code",
      "execution_count": 4,
      "metadata": {
        "id": "5OHwvs-O74va"
      },
      "outputs": [],
      "source": [
        "def generate_random_point(sw_lat, sw_lng, ne_lat, ne_lng):\n",
        "    lat = random.uniform(sw_lat, ne_lat)\n",
        "    lng = random.uniform(sw_lng, ne_lng)\n",
        "    return lat, lng\n",
        "\n",
        "def snap_to_road(lat, lng, api_key):\n",
        "    url = f'https://roads.googleapis.com/v1/nearestRoads?points={lat},{lng}&key={api_key}'\n",
        "    response = requests.get(url)\n",
        "    data = response.json()\n",
        "    if 'snappedPoints' in data and len(data['snappedPoints']) > 0:\n",
        "        snapped_point = data['snappedPoints'][0]['location']\n",
        "        return snapped_point['latitude'], snapped_point['longitude']\n",
        "    return None\n",
        "\n",
        "def get_road_distance_time(origin, destination, api_key):\n",
        "    origin_str = f'{origin[0]}, {origin[1]}'\n",
        "    destination_str = f'{destination[0]}, {destination[1]}'\n",
        "    departure_time = int(time.time()) + 24 * 3600\n",
        "    url = (\n",
        "        f'https://maps.googleapis.com/maps/api/distancematrix/json?units=metric&origins={origin_str}'\n",
        "        f'&destinations={destination_str}&mode=driving&departure_time={departure_time}&key={api_key}'\n",
        "    )\n",
        "    response = requests.get(url)\n",
        "    data = response.json()\n",
        "\n",
        "    if data['status'] == 'OK':\n",
        "        element = data['rows'][0]['elements'][0]\n",
        "        if element['status'] == 'OK':\n",
        "            distance_text = element['distance']['text']\n",
        "            distance = float(distance_text.replace(' km', '').replace(',', ''))\n",
        "\n",
        "            duration_text = element['duration']['text']\n",
        "            duration_parts = duration_text.split()\n",
        "            duration = int(duration_parts[0])\n",
        "            if \"hour\" in duration_text:\n",
        "                duration = int(duration_parts[0]) * 60 + int(duration_parts[2])\n",
        "\n",
        "            return distance, duration\n",
        "        else:\n",
        "            return None, None\n",
        "    else:\n",
        "        return None, None\n",
        "\n",
        "def find_center(sw_lat, sw_lng, ne_lat, ne_lng):\n",
        "    center_lat = (sw_lat + ne_lat) / 2\n",
        "    center_lng = (sw_lng + ne_lng) / 2\n",
        "    return center_lat, center_lng\n",
        "\n",
        "def generate_list(n, target_sum):\n",
        "    if n <= 1:\n",
        "        raise ValueError(\"The length of the list must be greater than 1.\")\n",
        "    if target_sum < 0:\n",
        "        raise ValueError(\"The target sum must be non-negative.\")\n",
        "    result = [0]\n",
        "    random_values = np.random.rand(n - 1)\n",
        "    random_values *= target_sum / np.sum(random_values)\n",
        "    rounded_values = np.round(random_values, 2)\n",
        "    difference = target_sum - np.sum(rounded_values)\n",
        "\n",
        "    if len(rounded_values) > 0:\n",
        "        rounded_values[-1] += difference\n",
        "\n",
        "    result.extend(rounded_values)\n",
        "\n",
        "    return result\n",
        "\n",
        "def crop_matrix(data, N):\n",
        "    return [row[:N] for row in data[:N]]\n",
        "\n",
        "import numpy as np\n",
        "\n",
        "def generate_demand_list(n, m, target_sum):\n",
        "    if n <= 1:\n",
        "        raise ValueError(\"The length of the list must be greater than 1.\")\n",
        "    if m >= n:\n",
        "        raise ValueError(\"M must be less than N.\")\n",
        "    if target_sum < 0:\n",
        "        raise ValueError(\"The target sum must be non-negative.\")\n",
        "\n",
        "    random_values = np.random.rand(n - m - 1)\n",
        "    random_values *= target_sum / np.sum(random_values)\n",
        "    rounded_values = np.round(random_values, 2)\n",
        "    difference = target_sum - np.sum(rounded_values)\n",
        "\n",
        "    if len(rounded_values) > 0:\n",
        "        rounded_values[-1] += difference\n",
        "\n",
        "    zeros_list = [0] * m\n",
        "\n",
        "    result = list(rounded_values) + zeros_list\n",
        "\n",
        "    random.shuffle(result)\n",
        "\n",
        "    result = [-1] + result\n",
        "\n",
        "    return result\n",
        "def replace_zeros_with_sum(input_list, target_sum):\n",
        "    zero_positions = [i for i, value in enumerate(input_list) if value == 0]\n",
        "    num_zeros = len(zero_positions)\n",
        "\n",
        "    result = input_list.copy()\n",
        "\n",
        "    if num_zeros == 0:\n",
        "        raise ValueError(\"There are no zeros to replace in the list.\")\n",
        "\n",
        "    random_values = np.random.rand(num_zeros)\n",
        "    random_values *= target_sum / np.sum(random_values)\n",
        "    rounded_values = np.round(random_values, 2)\n",
        "    difference = target_sum - np.sum(rounded_values)\n",
        "\n",
        "    if len(rounded_values) > 0:\n",
        "        rounded_values[-1] += difference\n",
        "\n",
        "    for i, pos in enumerate(zero_positions):\n",
        "        result[pos] = rounded_values[i]\n",
        "\n",
        "    return result\n",
        "\n",
        "def create_path_as_list(pairs_list):\n",
        "    wanted_length = len(pairs_list)\n",
        "    path = ''\n",
        "    current_pair = next(pair for pair in pairs_list if pair[0] == 0)\n",
        "    path += str(current_pair[0])\n",
        "\n",
        "    next_start = current_pair[1]\n",
        "\n",
        "    pairs_list.remove(current_pair)\n",
        "\n",
        "    while len(path) < wanted_length:\n",
        "        path += str(next_start)\n",
        "        current_pair = next(pair for pair in pairs_list if pair[0] == next_start)\n",
        "        pairs_list.remove(current_pair)\n",
        "        next_start = current_pair[1]\n",
        "\n",
        "    return path\n",
        "\n",
        "def find_paths_vrb(edges, k):\n",
        "    def find_path_vrb(current_path):\n",
        "        if len(paths) >= k:\n",
        "            return\n",
        "\n",
        "        last_node = current_path[-1]\n",
        "\n",
        "        if last_node == 0 and len(current_path) > 1:\n",
        "            paths.append(current_path)\n",
        "            return\n",
        "\n",
        "        for edge in edges:\n",
        "            if edge[0] == last_node:\n",
        "                find_path_vrb(current_path + [edge[1]])\n",
        "\n",
        "    paths = []\n",
        "    find_path_vrb([0])\n",
        "    return paths\n",
        "\n",
        "def repetitions(list1, list2):\n",
        "  common_elements = set(list1) & set(list2)\n",
        "  return (2*len(common_elements))/len(list1+list2)\n",
        "\n",
        "def equal_paths(list1, list2):\n",
        "  are_equal = sorted(list1) == sorted(list2)\n",
        "  if are_equal:\n",
        "    return 1\n",
        "  else:\n",
        "    return 0"
      ]
    },
    {
      "cell_type": "code",
      "execution_count": 6,
      "metadata": {
        "id": "ZV3sH8CJyXuC"
      },
      "outputs": [],
      "source": [
        "def cvrp(number_of_clients, number_of_vehicles, cost_buffor, demand_of_client, file_idx, problem_idx):\n",
        "    try:\n",
        "        problem = pulp.LpProblem(\"CVRP\", pulp.LpMinimize)\n",
        "\n",
        "        cost_shiffted = crop_matrix(cost_buffor, number_of_clients + 1)\n",
        "        capacity_of_vehicle = 100\n",
        "        x = [[[pulp.LpVariable(f\"x{i}_{j},{k}\", cat=\"Binary\") if i != j else None\n",
        "              for k in range(number_of_vehicles)]\n",
        "              for j in range(number_of_clients + 1)]\n",
        "            for i in range(number_of_clients + 1)]\n",
        "\n",
        "        u = pulp.LpVariable.dicts(\"u\", range(1, number_of_clients + 1), 0, number_of_clients, cat=\"Continuous\")\n",
        "\n",
        "        problem += pulp.lpSum(cost_shiffted[i][j] * x[i][j][k] if i != j else 0\n",
        "                              for k in range(number_of_vehicles)\n",
        "                              for j in range(number_of_clients + 1)\n",
        "                              for i in range(number_of_clients + 1))\n",
        "\n",
        "        for j in range(1, number_of_clients + 1):\n",
        "            problem += pulp.lpSum(x[i][j][k] if i != j else 0\n",
        "                                  for i in range(number_of_clients + 1)\n",
        "                                  for k in range(number_of_vehicles)) == 1\n",
        "\n",
        "        for k in range(number_of_vehicles):\n",
        "            problem += pulp.lpSum(x[0][j][k] for j in range(1, number_of_clients + 1)) == 1\n",
        "            problem += pulp.lpSum(x[i][0][k] for i in range(1, number_of_clients + 1)) == 1\n",
        "\n",
        "        for k in range(number_of_vehicles):\n",
        "            for j in range(number_of_clients + 1):\n",
        "                problem += pulp.lpSum(x[i][j][k] if i != j else 0\n",
        "                                      for i in range(number_of_clients + 1)) - \\\n",
        "                          pulp.lpSum(x[j][i][k] for i in range(number_of_clients + 1)) == 0\n",
        "\n",
        "        for k in range(number_of_vehicles):\n",
        "            problem += pulp.lpSum(demand_of_client[j] * x[i][j][k] if i != j else 0\n",
        "                                  for i in range(number_of_clients + 1)\n",
        "                                  for j in range(1, number_of_clients + 1)) <= capacity_of_vehicle\n",
        "\n",
        "        u = pulp.LpVariable.dicts(\"u\", range(1, number_of_clients + 1), 0, number_of_clients, cat=\"Continuous\")\n",
        "        for i in range(1, number_of_clients + 1):\n",
        "            for j in range(1, number_of_clients + 1):\n",
        "                if i != j:\n",
        "                    for k in range(number_of_vehicles):\n",
        "                        problem += u[i] - u[j] + (number_of_clients * x[i][j][k]) <= number_of_clients - 1\n",
        "\n",
        "        problem.solve()\n",
        "\n",
        "        all_uesd_edges = []\n",
        "        paths = [[] for _ in range(number_of_vehicles)]\n",
        "\n",
        "        for k in range(number_of_vehicles):\n",
        "            for i in range(number_of_clients + 1):\n",
        "                for j in range(number_of_clients + 1):\n",
        "                    if i != j and pulp.value(x[i][j][k]) == 1:\n",
        "                        all_uesd_edges.append((i, j))\n",
        "                        paths[k].append((i, j))\n",
        "\n",
        "        result_paths = find_paths_vrb(all_uesd_edges, number_of_vehicles)\n",
        "        return pulp.value(problem.objective)\n",
        "    except Exception as e:\n",
        "      print(f\"error for delivery stops {number_of_clients} and vehicles {number_of_vehicles}\")\n",
        "\n",
        "      values_to_reload.append((number_of_clients, number_of_vehicles, file_idx, problem_idx))\n",
        "\n",
        "      return None, None, None"
      ]
    },
    {
      "cell_type": "code",
      "execution_count": 22,
      "metadata": {
        "id": "K-r6-7hUrCbO"
      },
      "outputs": [],
      "source": [
        "def cvrp_cost_f(number_of_clients, number_of_vehicles, cost_buffor, demand_of_client, file_idx, problem_idx):\n",
        "    try:\n",
        "        problem = pulp.LpProblem(\"CVRP\", pulp.LpMinimize)\n",
        "\n",
        "        cost_shiffted = crop_matrix(cost_buffor, number_of_clients + 1)\n",
        "        capacity_of_vehicle = 100\n",
        "        x = [[[pulp.LpVariable(f\"x{i}_{j},{k}\", cat=\"Binary\") if i != j else None\n",
        "              for k in range(number_of_vehicles)]\n",
        "              for j in range(number_of_clients + 1)]\n",
        "            for i in range(number_of_clients + 1)]\n",
        "\n",
        "        u = pulp.LpVariable.dicts(\"u\", range(1, number_of_clients + 1), 0, number_of_clients, cat=\"Continuous\")\n",
        "\n",
        "        problem += pulp.lpSum(cost_shiffted[i][j] * x[i][j][k] if i != j else 0\n",
        "                              for k in range(number_of_vehicles)\n",
        "                              for j in range(number_of_clients + 1)\n",
        "                              for i in range(number_of_clients + 1))\n",
        "\n",
        "\n",
        "        for j in range(1, number_of_clients + 1):\n",
        "            problem += pulp.lpSum(x[i][j][k] if i != j else 0\n",
        "                                  for i in range(number_of_clients + 1)\n",
        "                                  for k in range(number_of_vehicles)) == 1\n",
        "\n",
        "        for k in range(number_of_vehicles):\n",
        "            problem += pulp.lpSum(x[0][j][k] for j in range(1, number_of_clients + 1)) == 1\n",
        "            problem += pulp.lpSum(x[i][0][k] for i in range(1, number_of_clients + 1)) == 1\n",
        "\n",
        "        for k in range(number_of_vehicles):\n",
        "            for j in range(number_of_clients + 1):\n",
        "                problem += pulp.lpSum(x[i][j][k] if i != j else 0\n",
        "                                      for i in range(number_of_clients + 1)) - \\\n",
        "                          pulp.lpSum(x[j][i][k] for i in range(number_of_clients + 1)) == 0\n",
        "\n",
        "        for k in range(number_of_vehicles):\n",
        "            problem += pulp.lpSum(demand_of_client[j] * x[i][j][k] if i != j else 0\n",
        "                                  for i in range(number_of_clients + 1)\n",
        "                                  for j in range(1, number_of_clients + 1)) <= capacity_of_vehicle\n",
        "\n",
        "        u = pulp.LpVariable.dicts(\"u\", range(1, number_of_clients + 1), 0, number_of_clients, cat=\"Continuous\")\n",
        "        for i in range(1, number_of_clients + 1):\n",
        "            for j in range(1, number_of_clients + 1):\n",
        "                if i != j:\n",
        "                    for k in range(number_of_vehicles):\n",
        "                        problem += u[i] - u[j] + (number_of_clients * x[i][j][k]) <= number_of_clients - 1\n",
        "\n",
        "        for k in range(number_of_vehicles):\n",
        "          problem += pulp.lpSum( x[i][j][k] * cost_shiffted[i][j] for j in range(number_of_clients + 1) for i in range(number_of_clients +1) if i != j) >= 1/number_of_vehicles * 3764\n",
        "          problem += pulp.lpSum( x[i][j][k] * cost_shiffted[i][j] for j in range(number_of_clients +1) for i in range(number_of_clients +1) if i != j) <= 3764\n",
        "\n",
        "        problem.solve()\n",
        "\n",
        "        all_uesd_edges = []\n",
        "        paths = [[] for _ in range(number_of_vehicles)]\n",
        "\n",
        "        for k in range(number_of_vehicles):\n",
        "            for i in range(number_of_clients + 1):\n",
        "                for j in range(number_of_clients + 1):\n",
        "                    if i != j and pulp.value(x[i][j][k]) == 1:\n",
        "                        all_uesd_edges.append((i, j))\n",
        "                        paths[k].append((i, j))\n",
        "\n",
        "        result_paths = find_paths_vrb(all_uesd_edges, number_of_vehicles)\n",
        "        return pulp.value(problem.objective)\n",
        "    except Exception as e:\n",
        "      print(f\"error for delivery stops {number_of_clients} and vehicles {number_of_vehicles}\")\n",
        "\n",
        "      values_to_reload.append((number_of_clients, number_of_vehicles, file_idx, problem_idx))\n",
        "\n",
        "      return None, None, None"
      ]
    },
    {
      "cell_type": "code",
      "execution_count": 19,
      "metadata": {
        "id": "WnReEwpJraLK"
      },
      "outputs": [],
      "source": [
        "def cvrp_stops(number_of_clients, number_of_vehicles, cost_buffor, demand_of_client, file_idx, problem_idx):\n",
        "    try:\n",
        "        problem = pulp.LpProblem(\"CVRP\", pulp.LpMinimize)\n",
        "\n",
        "        cost_shiffted = crop_matrix(cost_buffor, number_of_clients + 1)\n",
        "        capacity_of_vehicle = 100\n",
        "        x = [[[pulp.LpVariable(f\"x{i}_{j},{k}\", cat=\"Binary\") if i != j else None\n",
        "              for k in range(number_of_vehicles)]\n",
        "              for j in range(number_of_clients + 1)]\n",
        "            for i in range(number_of_clients + 1)]\n",
        "\n",
        "        u = pulp.LpVariable.dicts(\"u\", range(1, number_of_clients + 1), 0, number_of_clients, cat=\"Continuous\")\n",
        "\n",
        "        problem += pulp.lpSum(cost_shiffted[i][j] * x[i][j][k] if i != j else 0\n",
        "                              for k in range(number_of_vehicles)\n",
        "                              for j in range(number_of_clients + 1)\n",
        "                              for i in range(number_of_clients + 1))\n",
        "\n",
        "\n",
        "        for j in range(1, number_of_clients + 1):\n",
        "            problem += pulp.lpSum(x[i][j][k] if i != j else 0\n",
        "                                  for i in range(number_of_clients + 1)\n",
        "                                  for k in range(number_of_vehicles)) == 1\n",
        "\n",
        "        for k in range(number_of_vehicles):\n",
        "            problem += pulp.lpSum(x[0][j][k] for j in range(1, number_of_clients + 1)) == 1\n",
        "            problem += pulp.lpSum(x[i][0][k] for i in range(1, number_of_clients + 1)) == 1\n",
        "\n",
        "        for k in range(number_of_vehicles):\n",
        "            for j in range(number_of_clients + 1):\n",
        "                problem += pulp.lpSum(x[i][j][k] if i != j else 0\n",
        "                                      for i in range(number_of_clients + 1)) - \\\n",
        "                          pulp.lpSum(x[j][i][k] for i in range(number_of_clients + 1)) == 0\n",
        "\n",
        "        for k in range(number_of_vehicles):\n",
        "            problem += pulp.lpSum(demand_of_client[j] * x[i][j][k] if i != j else 0\n",
        "                                  for i in range(number_of_clients + 1)\n",
        "                                  for j in range(1, number_of_clients + 1)) <= capacity_of_vehicle\n",
        "\n",
        "        u = pulp.LpVariable.dicts(\"u\", range(1, number_of_clients + 1), 0, number_of_clients, cat=\"Continuous\")\n",
        "        for i in range(1, number_of_clients + 1):\n",
        "            for j in range(1, number_of_clients + 1):\n",
        "                if i != j:\n",
        "                    for k in range(number_of_vehicles):\n",
        "                        problem += u[i] - u[j] + (number_of_clients * x[i][j][k]) <= number_of_clients - 1\n",
        "\n",
        "\n",
        "        for k in range(number_of_vehicles):\n",
        "          problem += pulp.lpSum(x[i][j][k] for j in range(number_of_clients+1) for i in range(number_of_clients+1) if i != j) >= 4\n",
        "\n",
        "\n",
        "        problem.solve()\n",
        "\n",
        "        all_uesd_edges = []\n",
        "        paths = [[] for _ in range(number_of_vehicles)]\n",
        "\n",
        "        for k in range(number_of_vehicles):\n",
        "            for i in range(number_of_clients + 1):\n",
        "                for j in range(number_of_clients + 1):\n",
        "                    if i != j and pulp.value(x[i][j][k]) == 1:\n",
        "                        all_uesd_edges.append((i, j))\n",
        "                        paths[k].append((i, j))\n",
        "\n",
        "        result_paths = find_paths_vrb(all_uesd_edges, number_of_vehicles)\n",
        "        return pulp.value(problem.objective)\n",
        "    except Exception as e:\n",
        "      print(f\"error for delivery stops {number_of_clients} and vehicles {number_of_vehicles}\")\n",
        "\n",
        "      values_to_reload.append((number_of_clients, number_of_vehicles, file_idx, problem_idx))\n",
        "\n",
        "      return None, None, None"
      ]
    },
    {
      "cell_type": "code",
      "execution_count": 9,
      "metadata": {
        "id": "aSrZz4LlrcF-"
      },
      "outputs": [],
      "source": [
        "def cvrp(number_of_clients, number_of_vehicles, cost_buffor, demand_of_client, file_idx, problem_idx):\n",
        "    try:\n",
        "        problem = pulp.LpProblem(\"CVRP\", pulp.LpMinimize)\n",
        "\n",
        "        cost_shiffted = crop_matrix(cost_buffor, number_of_clients + 1)\n",
        "        capacity_of_vehicle = 100\n",
        "        x = [[[pulp.LpVariable(f\"x{i}_{j},{k}\", cat=\"Binary\") if i != j else None\n",
        "              for k in range(number_of_vehicles)]\n",
        "              for j in range(number_of_clients + 1)]\n",
        "            for i in range(number_of_clients + 1)]\n",
        "\n",
        "        u = pulp.LpVariable.dicts(\"u\", range(1, number_of_clients + 1), 0, number_of_clients, cat=\"Continuous\")\n",
        "\n",
        "        problem += pulp.lpSum(cost_shiffted[i][j] * x[i][j][k] if i != j else 0\n",
        "                              for k in range(number_of_vehicles)\n",
        "                              for j in range(number_of_clients + 1)\n",
        "                              for i in range(number_of_clients + 1))\n",
        "\n",
        "\n",
        "        for j in range(1, number_of_clients + 1):\n",
        "            problem += pulp.lpSum(x[i][j][k] if i != j else 0\n",
        "                                  for i in range(number_of_clients + 1)\n",
        "                                  for k in range(number_of_vehicles)) == 1\n",
        "\n",
        "        for k in range(number_of_vehicles):\n",
        "            problem += pulp.lpSum(x[0][j][k] for j in range(1, number_of_clients + 1)) == 1\n",
        "            problem += pulp.lpSum(x[i][0][k] for i in range(1, number_of_clients + 1)) == 1\n",
        "\n",
        "        for k in range(number_of_vehicles):\n",
        "            for j in range(number_of_clients + 1):\n",
        "                problem += pulp.lpSum(x[i][j][k] if i != j else 0\n",
        "                                      for i in range(number_of_clients + 1)) - \\\n",
        "                          pulp.lpSum(x[j][i][k] for i in range(number_of_clients + 1)) == 0\n",
        "\n",
        "        for k in range(number_of_vehicles):\n",
        "            problem += pulp.lpSum(demand_of_client[j] * x[i][j][k] if i != j else 0\n",
        "                                  for i in range(number_of_clients + 1)\n",
        "                                  for j in range(1, number_of_clients + 1)) <= capacity_of_vehicle\n",
        "\n",
        "        u = pulp.LpVariable.dicts(\"u\", range(1, number_of_clients + 1), 0, number_of_clients, cat=\"Continuous\")\n",
        "        for i in range(1, number_of_clients + 1):\n",
        "            for j in range(1, number_of_clients + 1):\n",
        "                if i != j:\n",
        "                    for k in range(number_of_vehicles):\n",
        "                        problem += u[i] - u[j] + (number_of_clients * x[i][j][k]) <= number_of_clients - 1\n",
        "\n",
        "        problem.solve()\n",
        "\n",
        "        all_uesd_edges = []\n",
        "        paths = [[] for _ in range(number_of_vehicles)]\n",
        "\n",
        "        for k in range(number_of_vehicles):\n",
        "            for i in range(number_of_clients + 1):\n",
        "                for j in range(number_of_clients + 1):\n",
        "                    if i != j and pulp.value(x[i][j][k]) == 1:\n",
        "                        all_uesd_edges.append((i, j))\n",
        "                        paths[k].append((i, j))\n",
        "\n",
        "        result_paths = find_paths_vrb(all_uesd_edges, number_of_vehicles)\n",
        "        return pulp.value(problem.objective)\n",
        "    except Exception as e:\n",
        "      print(f\"error for delivery stops {number_of_clients} and vehicles {number_of_vehicles}\")\n",
        "\n",
        "      values_to_reload.append((number_of_clients, number_of_vehicles, file_idx, problem_idx))\n",
        "\n",
        "      return None, None, None"
      ]
    },
    {
      "cell_type": "code",
      "execution_count": 10,
      "metadata": {
        "id": "nQvin_jSNC7e"
      },
      "outputs": [],
      "source": [
        "def create_cost_matrixes(df):\n",
        "    real_distance_columns = [col for col in df.columns if col.startswith('Road Distance to Point')]\n",
        "    df_filtered = df[real_distance_columns]\n",
        "\n",
        "    num_points = len(df_filtered)\n",
        "    cost_raod = [[0] * num_points for _ in range(num_points)]\n",
        "\n",
        "    for i in range(num_points):\n",
        "        for j in range(num_points):\n",
        "            if i != j:\n",
        "                column_name = f'Road Distance to Point {j + 1}'\n",
        "                distance = df_filtered.iloc[i][column_name]\n",
        "\n",
        "                cost_raod[i][j] = float(distance)\n",
        "\n",
        "\n",
        "    real_distance_columns = [col for col in df.columns if col.startswith('Time to Point')]\n",
        "    df_filtered = df[real_distance_columns]\n",
        "\n",
        "    num_points = len(df_filtered)\n",
        "    cost_time = [[0] * num_points for _ in range(num_points)]\n",
        "\n",
        "    for i in range(num_points):\n",
        "        for j in range(num_points):\n",
        "            if i != j:\n",
        "                column_name = f'Time to Point {j + 1}'\n",
        "                distance = df_filtered.iloc[i][column_name]\n",
        "\n",
        "                cost_time[i][j] = float(distance)\n",
        "\n",
        "\n",
        "    real_distance_columns = [col for col in df.columns if col.startswith('Real Distance to Point')]\n",
        "    df_filtered = df[real_distance_columns]\n",
        "\n",
        "    num_points = len(df_filtered)\n",
        "    cost_real = [[0] * num_points for _ in range(num_points)]\n",
        "\n",
        "    for i in range(num_points):\n",
        "        for j in range(num_points):\n",
        "            if i != j:\n",
        "                column_name = f'Real Distance to Point {j + 1}'\n",
        "                distance = df_filtered.iloc[i][column_name]\n",
        "\n",
        "                cost_real[i][j] = float(distance)\n",
        "\n",
        "    return cost_raod, cost_time, cost_real\n"
      ]
    },
    {
      "cell_type": "code",
      "execution_count": 11,
      "metadata": {
        "id": "xpFCmM7RqW5g"
      },
      "outputs": [],
      "source": [
        "import numpy as np\n",
        "from scipy import stats\n",
        "\n",
        "def confidence_interval_t(data, alpha=0.05):\n",
        "    n = len(data)\n",
        "    mean = np.mean(data)\n",
        "    std_dev = np.std(data, ddof=1)\n",
        "    t_critical = stats.t.ppf(1 - alpha/2, df=n-1)\n",
        "\n",
        "    margin_of_error = t_critical * (std_dev / np.sqrt(n))\n",
        "\n",
        "    return (margin_of_error)\n"
      ]
    },
    {
      "cell_type": "markdown",
      "metadata": {
        "id": "1jlEZqjxVJc3"
      },
      "source": [
        "### 10 CLIENTS CVRP 2 cracow"
      ]
    },
    {
      "cell_type": "code",
      "execution_count": 90,
      "metadata": {
        "id": "r6MiAcpA7lV6"
      },
      "outputs": [],
      "source": [
        "output_dir = 'X'\n",
        "files = [f for f in os.listdir(output_dir) if f.startswith(\"X\")]\n",
        "print(files)"
      ]
    },
    {
      "cell_type": "code",
      "execution_count": null,
      "metadata": {
        "colab": {
          "base_uri": "https://localhost:8080/"
        },
        "id": "qVOC3osvoolH",
        "outputId": "ce1094b8-436a-4bd5-c9cd-8b2c7931a8b7"
      },
      "outputs": [
        {
          "name": "stdout",
          "output_type": "stream",
          "text": [
            "############# calculated_file 30_clients_cracow_1\n",
            "############# calculated_file 30_clients_cracow_2\n",
            "############# calculated_file 30_clients_cracow_3.csv\n",
            "############# calculated_file 30_clients_cracow_4.csv\n",
            "############# calculated_file 30_clients_cracow_5.csv\n",
            "############# calculated_file 30_clients_cracow_6.csv\n",
            "############# calculated_file 30_clients_cracow_7.csv\n",
            "############# calculated_file 30_clients_cracow_8.csv\n",
            "############# calculated_file 30_clients_cracow_9.csv\n",
            "############# calculated_file 30_clients_cracow_10.csv\n",
            "############# calculated_file 30_clients_cracow_11.csv\n",
            "############# calculated_file 30_clients_cracow_12.csv\n",
            "############# calculated_file 30_clients_cracow_13.csv\n",
            "############# calculated_file 30_clients_cracow_14.csv\n",
            "############# calculated_file 30_clients_cracow_15.csv\n",
            "############# calculated_file 30_clients_cracow_16.csv\n",
            "############# calculated_file 30_clients_cracow_17.csv\n",
            "############# calculated_file 30_clients_cracow_18.csv\n",
            "############# calculated_file 30_clients_cracow_19.csv\n",
            "############# calculated_file 30_clients_cracow_20.csv\n"
          ]
        },
        {
          "data": {
            "text/plain": [
              "[51.49999999999999,\n",
              " 41.6,\n",
              " 37.39999999999999,\n",
              " 35.2,\n",
              " 55.1,\n",
              " 50.199999999999996,\n",
              " 34.099999999999994,\n",
              " 49.699999999999996,\n",
              " 61.89999999999999,\n",
              " 28.700000000000003,\n",
              " 57.900000000000006,\n",
              " 43.2,\n",
              " 30.0,\n",
              " 47.5,\n",
              " 29.599999999999998,\n",
              " 33.599999999999994,\n",
              " 60.10000000000001,\n",
              " 51.9,\n",
              " 55.0,\n",
              " 33.699999999999996]"
            ]
          },
          "execution_count": 19,
          "metadata": {},
          "output_type": "execute_result"
        }
      ],
      "source": [
        "output_2_cvrp_07 = []\n",
        "\n",
        "\n",
        "for requested_file in files:\n",
        "  print(f\"############# calculated_file {requested_file}\")\n",
        "  file_idx = files.index(requested_file)\n",
        "  df = pd.read_csv(os.path.join(output_dir, requested_file))\n",
        "  df.fillna(10000000, inplace=True)\n",
        "  cost_R, cost_T, cost_G = create_cost_matrixes(df)\n",
        "\n",
        "  v_iterator = 0\n",
        "\n",
        "  demand_of_client = generate_list(10 + 1, 0.7 * 100 * 2)\n",
        "\n",
        "  output_2_cvrp_07.append(cvrp(10, 2, cost_R, demand_of_client, file_idx, \"R\"))\n",
        "\n",
        "output_2_cvrp_07"
      ]
    },
    {
      "cell_type": "code",
      "execution_count": 57,
      "metadata": {
        "colab": {
          "base_uri": "https://localhost:8080/"
        },
        "id": "F8PfrsVup5sG",
        "outputId": "72966e61-83ff-4035-97c8-4f122681f7e8"
      },
      "outputs": [
        {
          "output_type": "stream",
          "name": "stdout",
          "text": [
            "44.394999999999996\n",
            "5.1412898639301945\n"
          ]
        }
      ],
      "source": [
        "# [51.49999999999999,\n",
        "#  41.6,\n",
        "#  37.39999999999999,\n",
        "#  35.2,\n",
        "#  55.1,\n",
        "#  50.199999999999996,\n",
        "#  34.099999999999994,\n",
        "#  49.699999999999996,\n",
        "#  61.89999999999999,\n",
        "#  28.700000000000003,\n",
        "#  57.900000000000006,\n",
        "#  43.2,\n",
        "#  30.0,\n",
        "#  47.5,\n",
        "#  29.599999999999998,\n",
        "#  33.599999999999994,\n",
        "#  60.10000000000001,\n",
        "#  51.9,\n",
        "#  55.0,\n",
        "#  33.699999999999996]\n",
        "print(np.mean(output_2_cvrp_07))\n",
        "print(confidence_interval_t(output_2_cvrp_07))"
      ]
    },
    {
      "cell_type": "code",
      "execution_count": null,
      "metadata": {
        "colab": {
          "base_uri": "https://localhost:8080/"
        },
        "id": "Lokv6Q6ppquK",
        "outputId": "22ca26ad-bd92-45d7-bafb-629a76e212f6"
      },
      "outputs": [
        {
          "name": "stdout",
          "output_type": "stream",
          "text": [
            "############# calculated_file 30_clients_cracow_1\n",
            "############# calculated_file 30_clients_cracow_2\n",
            "############# calculated_file 30_clients_cracow_3.csv\n",
            "############# calculated_file 30_clients_cracow_4.csv\n",
            "############# calculated_file 30_clients_cracow_5.csv\n",
            "############# calculated_file 30_clients_cracow_6.csv\n",
            "############# calculated_file 30_clients_cracow_7.csv\n",
            "############# calculated_file 30_clients_cracow_8.csv\n",
            "############# calculated_file 30_clients_cracow_9.csv\n",
            "############# calculated_file 30_clients_cracow_10.csv\n",
            "############# calculated_file 30_clients_cracow_11.csv\n",
            "############# calculated_file 30_clients_cracow_12.csv\n",
            "############# calculated_file 30_clients_cracow_13.csv\n",
            "############# calculated_file 30_clients_cracow_14.csv\n",
            "############# calculated_file 30_clients_cracow_15.csv\n",
            "############# calculated_file 30_clients_cracow_16.csv\n",
            "############# calculated_file 30_clients_cracow_17.csv\n",
            "############# calculated_file 30_clients_cracow_18.csv\n",
            "############# calculated_file 30_clients_cracow_19.csv\n",
            "############# calculated_file 30_clients_cracow_20.csv\n"
          ]
        },
        {
          "data": {
            "text/plain": [
              "[51.099999999999994,\n",
              " 38.800000000000004,\n",
              " 36.8,\n",
              " 33.300000000000004,\n",
              " 53.0,\n",
              " 49.99999999999999,\n",
              " 33.1,\n",
              " 48.099999999999994,\n",
              " 60.599999999999994,\n",
              " 28.3,\n",
              " 57.4,\n",
              " 40.0,\n",
              " 26.5,\n",
              " 47.5,\n",
              " 29.499999999999996,\n",
              " 33.6,\n",
              " 59.30000000000001,\n",
              " 51.900000000000006,\n",
              " 54.7,\n",
              " 33.699999999999996]"
            ]
          },
          "execution_count": 21,
          "metadata": {},
          "output_type": "execute_result"
        }
      ],
      "source": [
        "output_2_cvrp_00 = []\n",
        "\n",
        "\n",
        "for requested_file in files:\n",
        "  print(f\"############# calculated_file {requested_file}\")\n",
        "  file_idx = files.index(requested_file)\n",
        "  df = pd.read_csv(os.path.join(output_dir, requested_file))\n",
        "  df.fillna(10000000, inplace=True)\n",
        "  cost_R, cost_T, cost_G = create_cost_matrixes(df)\n",
        "\n",
        "  v_iterator = 0\n",
        "\n",
        "  demand_of_client = generate_list(10 + 1, 0 * 100 * 2)\n",
        "\n",
        "  output_2_cvrp_00.append(cvrp(10, 2, cost_R, demand_of_client, file_idx, \"R\"))\n",
        "\n",
        "output_2_cvrp_00"
      ]
    },
    {
      "cell_type": "code",
      "execution_count": null,
      "metadata": {
        "colab": {
          "base_uri": "https://localhost:8080/"
        },
        "id": "FWlHCGvnqs0E",
        "outputId": "4bd99d8a-4305-4acf-9102-f94ead8e05bb"
      },
      "outputs": [
        {
          "name": "stdout",
          "output_type": "stream",
          "text": [
            "43.36\n",
            "5.215797907864966\n"
          ]
        }
      ],
      "source": [
        "# [51.099999999999994,\n",
        "#  38.800000000000004,\n",
        "#  36.8,\n",
        "#  33.300000000000004,\n",
        "#  53.0,\n",
        "#  49.99999999999999,\n",
        "#  33.1,\n",
        "#  48.099999999999994,\n",
        "#  60.599999999999994,\n",
        "#  28.3,\n",
        "#  57.4,\n",
        "#  40.0,\n",
        "#  26.5,\n",
        "#  47.5,\n",
        "#  29.499999999999996,\n",
        "#  33.6,\n",
        "#  59.30000000000001,\n",
        "#  51.900000000000006,\n",
        "#  54.7,\n",
        "#  33.699999999999996]\n",
        "print(np.mean(output_2_cvrp_00))\n",
        "print(confidence_interval_t(output_2_cvrp_00))"
      ]
    },
    {
      "cell_type": "code",
      "execution_count": null,
      "metadata": {
        "colab": {
          "base_uri": "https://localhost:8080/"
        },
        "id": "XJqNAFQvr6dF",
        "outputId": "bd45a9ec-1c6f-4f58-a4cf-45a97f86d4d6"
      },
      "outputs": [
        {
          "name": "stdout",
          "output_type": "stream",
          "text": [
            "############# calculated_file 30_clients_cracow_1\n",
            "############# calculated_file 30_clients_cracow_2\n",
            "############# calculated_file 30_clients_cracow_3.csv\n",
            "############# calculated_file 30_clients_cracow_4.csv\n",
            "############# calculated_file 30_clients_cracow_5.csv\n",
            "############# calculated_file 30_clients_cracow_6.csv\n",
            "############# calculated_file 30_clients_cracow_7.csv\n",
            "############# calculated_file 30_clients_cracow_8.csv\n",
            "############# calculated_file 30_clients_cracow_9.csv\n",
            "############# calculated_file 30_clients_cracow_10.csv\n",
            "############# calculated_file 30_clients_cracow_11.csv\n",
            "############# calculated_file 30_clients_cracow_12.csv\n",
            "############# calculated_file 30_clients_cracow_13.csv\n",
            "############# calculated_file 30_clients_cracow_14.csv\n",
            "############# calculated_file 30_clients_cracow_15.csv\n",
            "############# calculated_file 30_clients_cracow_16.csv\n",
            "############# calculated_file 30_clients_cracow_17.csv\n",
            "############# calculated_file 30_clients_cracow_18.csv\n",
            "############# calculated_file 30_clients_cracow_19.csv\n",
            "############# calculated_file 30_clients_cracow_20.csv\n"
          ]
        },
        {
          "data": {
            "text/plain": [
              "[51.49999999999999,\n",
              " 41.1,\n",
              " 37.4,\n",
              " 35.7,\n",
              " 55.50000000000001,\n",
              " 50.199999999999996,\n",
              " 34.1,\n",
              " 50.99999999999999,\n",
              " 61.9,\n",
              " 28.700000000000003,\n",
              " 58.09999999999999,\n",
              " 43.6,\n",
              " 30.0,\n",
              " 47.5,\n",
              " 31.1,\n",
              " 33.6,\n",
              " 60.1,\n",
              " 51.9,\n",
              " 55.00000000000001,\n",
              " 33.7]"
            ]
          },
          "execution_count": 29,
          "metadata": {},
          "output_type": "execute_result"
        }
      ],
      "source": [
        "output_2_cvrp_stops = []\n",
        "\n",
        "\n",
        "for requested_file in files:\n",
        "  print(f\"############# calculated_file {requested_file}\")\n",
        "  file_idx = files.index(requested_file)\n",
        "  df = pd.read_csv(os.path.join(output_dir, requested_file))\n",
        "  df.fillna(10000000, inplace=True)\n",
        "  cost_R, cost_T, cost_G = create_cost_matrixes(df)\n",
        "\n",
        "  v_iterator = 0\n",
        "\n",
        "  demand_of_client = generate_list(10 + 1, 0 * 100 * 2)\n",
        "\n",
        "  output_2_cvrp_stops.append(cvrp_stops(10, 2, cost_R, demand_of_client, file_idx, \"R\"))\n",
        "\n",
        "output_2_cvrp_stops"
      ]
    },
    {
      "cell_type": "code",
      "execution_count": null,
      "metadata": {
        "colab": {
          "base_uri": "https://localhost:8080/"
        },
        "id": "m_jFyAJ1r6fT",
        "outputId": "02f7763a-b037-4e08-838f-d873c2051578"
      },
      "outputs": [
        {
          "name": "stdout",
          "output_type": "stream",
          "text": [
            "44.585\n",
            "5.118925903681601\n"
          ]
        }
      ],
      "source": [
        "# [51.49999999999999,\n",
        "#  41.1,\n",
        "#  37.4,\n",
        "#  35.7,\n",
        "#  55.50000000000001,\n",
        "#  50.199999999999996,\n",
        "#  34.1,\n",
        "#  50.99999999999999,\n",
        "#  61.9,\n",
        "#  28.700000000000003,\n",
        "#  58.09999999999999,\n",
        "#  43.6,\n",
        "#  30.0,\n",
        "#  47.5,\n",
        "#  31.1,\n",
        "#  33.6,\n",
        "#  60.1,\n",
        "#  51.9,\n",
        "#  55.00000000000001,\n",
        "#  33.7]\n",
        "print(np.mean(output_2_cvrp_stops))\n",
        "print(confidence_interval_t(output_2_cvrp_stops))"
      ]
    },
    {
      "cell_type": "code",
      "execution_count": null,
      "metadata": {
        "colab": {
          "base_uri": "https://localhost:8080/"
        },
        "id": "2do37384s9XW",
        "outputId": "62d51c5a-dc75-4c0e-c53e-59263a7c3243"
      },
      "outputs": [
        {
          "name": "stdout",
          "output_type": "stream",
          "text": [
            "############# calculated_file 30_clients_cracow_1\n",
            "############# calculated_file 30_clients_cracow_2\n",
            "############# calculated_file 30_clients_cracow_3.csv\n",
            "############# calculated_file 30_clients_cracow_4.csv\n",
            "############# calculated_file 30_clients_cracow_5.csv\n",
            "############# calculated_file 30_clients_cracow_6.csv\n",
            "############# calculated_file 30_clients_cracow_7.csv\n",
            "############# calculated_file 30_clients_cracow_8.csv\n",
            "############# calculated_file 30_clients_cracow_9.csv\n",
            "############# calculated_file 30_clients_cracow_10.csv\n",
            "############# calculated_file 30_clients_cracow_11.csv\n",
            "############# calculated_file 30_clients_cracow_12.csv\n",
            "############# calculated_file 30_clients_cracow_13.csv\n",
            "############# calculated_file 30_clients_cracow_14.csv\n",
            "############# calculated_file 30_clients_cracow_15.csv\n",
            "############# calculated_file 30_clients_cracow_16.csv\n",
            "############# calculated_file 30_clients_cracow_17.csv\n",
            "############# calculated_file 30_clients_cracow_18.csv\n",
            "############# calculated_file 30_clients_cracow_19.csv\n",
            "############# calculated_file 30_clients_cracow_20.csv\n"
          ]
        },
        {
          "data": {
            "text/plain": [
              "[52.099999999999994,\n",
              " 45.0,\n",
              " 45.099999999999994,\n",
              " 45.0,\n",
              " 55.2,\n",
              " 52.2,\n",
              " 44.99999999999999,\n",
              " 50.3,\n",
              " 61.9,\n",
              " 45.0,\n",
              " 57.9,\n",
              " 46.9,\n",
              " 45.0,\n",
              " 53.599999999999994,\n",
              " 45.0,\n",
              " 45.0,\n",
              " 60.400000000000006,\n",
              " 53.0,\n",
              " 55.0,\n",
              " 45.0]"
            ]
          },
          "execution_count": 35,
          "metadata": {},
          "output_type": "execute_result"
        }
      ],
      "source": [
        "output_2_cvrp_cost_f = []\n",
        "\n",
        "\n",
        "for requested_file in files:\n",
        "  print(f\"############# calculated_file {requested_file}\")\n",
        "  file_idx = files.index(requested_file)\n",
        "  df = pd.read_csv(os.path.join(output_dir, requested_file))\n",
        "  df.fillna(10000000, inplace=True)\n",
        "  cost_R, cost_T, cost_G = create_cost_matrixes(df)\n",
        "\n",
        "  v_iterator = 0\n",
        "\n",
        "  demand_of_client = generate_list(10 + 1, 0 * 100 * 2)\n",
        "\n",
        "  output_2_cvrp_cost_f.append(cvrp_cost_f(10, 2, cost_R, demand_of_client, file_idx, \"R\"))\n",
        "\n",
        "output_2_cvrp_cost_f"
      ]
    },
    {
      "cell_type": "code",
      "execution_count": null,
      "metadata": {
        "colab": {
          "base_uri": "https://localhost:8080/"
        },
        "id": "DDWfbO3ys9fQ",
        "outputId": "a74a244e-6bef-41ac-f58f-26ac082d661c"
      },
      "outputs": [
        {
          "name": "stdout",
          "output_type": "stream",
          "text": [
            "50.18\n",
            "2.691734979345827\n"
          ]
        }
      ],
      "source": [
        "# [52.099999999999994,\n",
        "#  45.0,\n",
        "#  45.099999999999994,\n",
        "#  45.0,\n",
        "#  55.2,\n",
        "#  52.2,\n",
        "#  44.99999999999999,\n",
        "#  50.3,\n",
        "#  61.9,\n",
        "#  45.0,\n",
        "#  57.9,\n",
        "#  46.9,\n",
        "#  45.0,\n",
        "#  53.599999999999994,\n",
        "#  45.0,\n",
        "#  45.0,\n",
        "#  60.400000000000006,\n",
        "#  53.0,\n",
        "#  55.0,\n",
        "#  45.0]\n",
        "print(np.mean(output_2_cvrp_cost_f))\n",
        "print(confidence_interval_t(output_2_cvrp_cost_f))"
      ]
    },
    {
      "cell_type": "markdown",
      "metadata": {
        "id": "R_wzLWZTuk1B"
      },
      "source": [
        "### 10 CLIENTS CVRP 2 europe"
      ]
    },
    {
      "cell_type": "code",
      "source": [
        "output_dir = 'X'\n",
        "files = [f for f in os.listdir(output_dir) if f.startswith(\"X\")]\n",
        "print(files)"
      ],
      "metadata": {
        "id": "ikccrBwTOJ1t"
      },
      "execution_count": null,
      "outputs": []
    },
    {
      "cell_type": "code",
      "execution_count": 15,
      "metadata": {
        "colab": {
          "base_uri": "https://localhost:8080/"
        },
        "id": "SrVYNMjtuk1P",
        "outputId": "9109b02c-196e-4b69-8636-6d91247b9e15"
      },
      "outputs": [
        {
          "output_type": "stream",
          "name": "stdout",
          "text": [
            "############# calculated_file 30_clients_europe_1\n",
            "############# calculated_file 30_clients_europe_2\n",
            "############# calculated_file 30_clients_europe_3\n",
            "############# calculated_file 30_clients_europe_5\n",
            "############# calculated_file 30_clients_europe_7\n",
            "############# calculated_file 30_clients_europe_8\n",
            "############# calculated_file 30_clients_europe_6\n",
            "############# calculated_file 30_clients_europe_9\n",
            "############# calculated_file 30_clients_europe_10\n",
            "############# calculated_file 30_clients_europe_11\n",
            "############# calculated_file 30_clients_europe_12\n",
            "############# calculated_file 30_clients_europe_13\n",
            "############# calculated_file 30_clients_europe_14\n",
            "############# calculated_file 30_clients_europe_15\n",
            "############# calculated_file 30_clients_europe_16\n",
            "############# calculated_file 30_clients_europe_17\n",
            "############# calculated_file 30_clients_europe_18\n",
            "############# calculated_file 30_clients_europe_19\n",
            "############# calculated_file 30_clients_europe_20\n"
          ]
        },
        {
          "output_type": "execute_result",
          "data": {
            "text/plain": [
              "[4126.9,\n",
              " 3049.3,\n",
              " 3753.0,\n",
              " 4154.0,\n",
              " 3620.1,\n",
              " 3069.4,\n",
              " 4420.2,\n",
              " 4144.1,\n",
              " 4898.0,\n",
              " 3207.7,\n",
              " 3821.8,\n",
              " 3675.0,\n",
              " 4024.4,\n",
              " 3979.2,\n",
              " 3077.8,\n",
              " 3909.5,\n",
              " 3732.6,\n",
              " 3828.4,\n",
              " 3555.1,\n",
              " 3243.8]"
            ]
          },
          "metadata": {},
          "execution_count": 15
        }
      ],
      "source": [
        "output_2_cvrp_07 = []\n",
        "\n",
        "\n",
        "for requested_file in files:\n",
        "  print(f\"############# calculated_file {requested_file}\")\n",
        "  file_idx = files.index(requested_file)\n",
        "  df = pd.read_csv(os.path.join(output_dir, requested_file))\n",
        "  df.fillna(10000000, inplace=True)\n",
        "  cost_R, cost_T, cost_G = create_cost_matrixes(df)\n",
        "\n",
        "  v_iterator = 0\n",
        "\n",
        "  demand_of_client = generate_list(10 + 1, 0.7 * 100 * 2)\n",
        "\n",
        "  output_2_cvrp_07.append(cvrp(10, 2, cost_R, demand_of_client, file_idx, \"R\"))\n",
        "\n",
        "output_2_cvrp_07"
      ]
    },
    {
      "cell_type": "code",
      "execution_count": 58,
      "metadata": {
        "colab": {
          "base_uri": "https://localhost:8080/"
        },
        "id": "WL0qYTuCuk1P",
        "outputId": "db5e793f-851b-465a-c23c-f7254e3d0fa1"
      },
      "outputs": [
        {
          "output_type": "stream",
          "name": "stdout",
          "text": [
            "44.394999999999996\n",
            "5.1412898639301945\n"
          ]
        }
      ],
      "source": [
        "# [4126.9,\n",
        "#  3049.3,\n",
        "#  3753.0,\n",
        "#  4154.0,\n",
        "#  3620.1,\n",
        "#  3069.4,\n",
        "#  4420.2,\n",
        "#  4144.1,\n",
        "#  4898.0,\n",
        "#  3207.7,\n",
        "#  3821.8,\n",
        "#  3675.0,\n",
        "#  4024.4,\n",
        "#  3979.2,\n",
        "#  3077.8,\n",
        "#  3909.5,\n",
        "#  3732.6,\n",
        "#  3828.4,\n",
        "#  3555.1,\n",
        "#  3243.8]\n",
        "print(np.mean(output_2_cvrp_07))\n",
        "print(confidence_interval_t(output_2_cvrp_07))"
      ]
    },
    {
      "cell_type": "code",
      "execution_count": 43,
      "metadata": {
        "colab": {
          "base_uri": "https://localhost:8080/"
        },
        "id": "kBbkITr1uk1Q",
        "outputId": "86bb10d5-3c5b-4491-9ac1-008bf74cc1dd"
      },
      "outputs": [
        {
          "output_type": "stream",
          "name": "stdout",
          "text": [
            "############# calculated_file 30_clients_europe_1\n",
            "############# calculated_file 30_clients_europe_2\n",
            "############# calculated_file 30_clients_europe_3\n",
            "############# calculated_file 30_clients_europe_4\n",
            "############# calculated_file 30_clients_europe_5\n",
            "############# calculated_file 30_clients_europe_7\n",
            "############# calculated_file 30_clients_europe_8\n",
            "############# calculated_file 30_clients_europe_6\n",
            "############# calculated_file 30_clients_europe_9\n",
            "############# calculated_file 30_clients_europe_10\n",
            "############# calculated_file 30_clients_europe_11\n",
            "############# calculated_file 30_clients_europe_12\n",
            "############# calculated_file 30_clients_europe_13\n",
            "############# calculated_file 30_clients_europe_14\n",
            "############# calculated_file 30_clients_europe_15\n",
            "############# calculated_file 30_clients_europe_16\n",
            "############# calculated_file 30_clients_europe_17\n",
            "############# calculated_file 30_clients_europe_18\n",
            "############# calculated_file 30_clients_europe_19\n",
            "############# calculated_file 30_clients_europe_20\n"
          ]
        },
        {
          "output_type": "execute_result",
          "data": {
            "text/plain": [
              "[3835.9,\n",
              " 3049.2999999999997,\n",
              " 3391.0,\n",
              " 3968.0,\n",
              " 3332.1,\n",
              " 2859.4,\n",
              " 4049.4,\n",
              " 3735.1,\n",
              " 4898.0,\n",
              " 2854.7,\n",
              " 3642.8,\n",
              " 3397.0,\n",
              " 3746.4,\n",
              " 3940.2,\n",
              " 2959.7999999999997,\n",
              " 3825.0,\n",
              " 3573.0,\n",
              " 3494.4,\n",
              " 3050.1,\n",
              " 2897.8]"
            ]
          },
          "metadata": {},
          "execution_count": 43
        }
      ],
      "source": [
        "output_2_cvrp_00 = []\n",
        "\n",
        "\n",
        "for requested_file in files:\n",
        "  print(f\"############# calculated_file {requested_file}\")\n",
        "  file_idx = files.index(requested_file)\n",
        "  df = pd.read_csv(os.path.join(output_dir, requested_file))\n",
        "  df.fillna(10000000, inplace=True)\n",
        "  cost_R, cost_T, cost_G = create_cost_matrixes(df)\n",
        "\n",
        "  v_iterator = 0\n",
        "\n",
        "  demand_of_client = generate_list(10 + 1, 0 * 100 * 2)\n",
        "\n",
        "  output_2_cvrp_00.append(cvrp(10, 2, cost_R, demand_of_client, file_idx, \"R\"))\n",
        "\n",
        "output_2_cvrp_00"
      ]
    },
    {
      "cell_type": "code",
      "execution_count": 44,
      "metadata": {
        "colab": {
          "base_uri": "https://localhost:8080/"
        },
        "id": "Z7ZUVWaIuk1Q",
        "outputId": "e4cedf61-63ce-4ed4-c0a4-dca8b9c02ba5"
      },
      "outputs": [
        {
          "output_type": "stream",
          "name": "stdout",
          "text": [
            "3524.9700000000003\n",
            "238.9848654270052\n"
          ]
        }
      ],
      "source": [
        "# [3835.9,\n",
        "#  3049.2999999999997,\n",
        "#  3391.0,\n",
        "#  3968.0,\n",
        "#  3332.1,\n",
        "#  2859.4,\n",
        "#  4049.4,\n",
        "#  3735.1,\n",
        "#  4898.0,\n",
        "#  2854.7,\n",
        "#  3642.8,\n",
        "#  3397.0,\n",
        "#  3746.4,\n",
        "#  3940.2,\n",
        "#  2959.7999999999997,\n",
        "#  3825.0,\n",
        "#  3573.0,\n",
        "#  3494.4,\n",
        "#  3050.1,\n",
        "#  2897.8]\n",
        "print(np.mean(output_2_cvrp_00))\n",
        "print(confidence_interval_t(output_2_cvrp_00))"
      ]
    },
    {
      "cell_type": "code",
      "execution_count": 20,
      "metadata": {
        "colab": {
          "base_uri": "https://localhost:8080/"
        },
        "id": "PLhfBeF1uk1R",
        "outputId": "472cdfcc-2629-4028-d292-a4b6bbacfc34"
      },
      "outputs": [
        {
          "output_type": "stream",
          "name": "stdout",
          "text": [
            "############# calculated_file 30_clients_europe_1\n",
            "############# calculated_file 30_clients_europe_2\n",
            "############# calculated_file 30_clients_europe_3\n",
            "############# calculated_file 30_clients_europe_4\n",
            "############# calculated_file 30_clients_europe_5\n",
            "############# calculated_file 30_clients_europe_7\n",
            "############# calculated_file 30_clients_europe_8\n",
            "############# calculated_file 30_clients_europe_6\n",
            "############# calculated_file 30_clients_europe_9\n",
            "############# calculated_file 30_clients_europe_10\n",
            "############# calculated_file 30_clients_europe_11\n",
            "############# calculated_file 30_clients_europe_12\n",
            "############# calculated_file 30_clients_europe_13\n",
            "############# calculated_file 30_clients_europe_14\n",
            "############# calculated_file 30_clients_europe_15\n",
            "############# calculated_file 30_clients_europe_16\n",
            "############# calculated_file 30_clients_europe_17\n",
            "############# calculated_file 30_clients_europe_18\n",
            "############# calculated_file 30_clients_europe_19\n",
            "############# calculated_file 30_clients_europe_20\n"
          ]
        },
        {
          "output_type": "execute_result",
          "data": {
            "text/plain": [
              "[4126.9,\n",
              " 3049.2999999999997,\n",
              " 3753.0,\n",
              " 4154.0,\n",
              " 3620.1000000000004,\n",
              " 2949.4,\n",
              " 4626.2,\n",
              " 4144.1,\n",
              " 5086.0,\n",
              " 3207.7,\n",
              " 3821.8,\n",
              " 3675.0,\n",
              " 4030.4,\n",
              " 3979.2,\n",
              " 3077.8,\n",
              " 4175.5,\n",
              " 3732.6,\n",
              " 3706.4,\n",
              " 3363.1,\n",
              " 3243.8]"
            ]
          },
          "metadata": {},
          "execution_count": 20
        }
      ],
      "source": [
        "output_2_cvrp_stops = []\n",
        "\n",
        "\n",
        "for requested_file in files:\n",
        "  print(f\"############# calculated_file {requested_file}\")\n",
        "  file_idx = files.index(requested_file)\n",
        "  df = pd.read_csv(os.path.join(output_dir, requested_file))\n",
        "  df.fillna(10000000, inplace=True)\n",
        "  cost_R, cost_T, cost_G = create_cost_matrixes(df)\n",
        "\n",
        "  v_iterator = 0\n",
        "\n",
        "  demand_of_client = generate_list(10 + 1, 0 * 100 * 2)\n",
        "\n",
        "  output_2_cvrp_stops.append(cvrp_stops(10, 2, cost_R, demand_of_client, file_idx, \"R\"))\n",
        "\n",
        "output_2_cvrp_stops"
      ]
    },
    {
      "cell_type": "code",
      "execution_count": 21,
      "metadata": {
        "id": "RTOVvH7Luk1R",
        "colab": {
          "base_uri": "https://localhost:8080/"
        },
        "outputId": "7341d9f0-fb41-43dc-ae97-c170caee636e"
      },
      "outputs": [
        {
          "output_type": "stream",
          "name": "stdout",
          "text": [
            "3776.1150000000002\n",
            "254.660279790081\n"
          ]
        }
      ],
      "source": [
        "# [4126.9,\n",
        "#  3049.2999999999997,\n",
        "#  3753.0,\n",
        "#  4154.0,\n",
        "#  3620.1000000000004,\n",
        "#  2949.4,\n",
        "#  4626.2,\n",
        "#  4144.1,\n",
        "#  5086.0,\n",
        "#  3207.7,\n",
        "#  3821.8,\n",
        "#  3675.0,\n",
        "#  4030.4,\n",
        "#  3979.2,\n",
        "#  3077.8,\n",
        "#  4175.5,\n",
        "#  3732.6,\n",
        "#  3706.4,\n",
        "#  3363.1,\n",
        "#  3243.8]\n",
        "print(np.mean(output_2_cvrp_stops))\n",
        "print(confidence_interval_t(output_2_cvrp_stops))"
      ]
    },
    {
      "cell_type": "code",
      "execution_count": 23,
      "metadata": {
        "id": "sYIIqmCbuk1S",
        "colab": {
          "base_uri": "https://localhost:8080/"
        },
        "outputId": "2c5ec470-ce24-409a-9d58-d5962b80c76e"
      },
      "outputs": [
        {
          "output_type": "stream",
          "name": "stdout",
          "text": [
            "############# calculated_file 30_clients_europe_1\n",
            "############# calculated_file 30_clients_europe_2\n",
            "############# calculated_file 30_clients_europe_3\n",
            "############# calculated_file 30_clients_europe_4\n",
            "############# calculated_file 30_clients_europe_5\n",
            "############# calculated_file 30_clients_europe_7\n",
            "############# calculated_file 30_clients_europe_8\n",
            "############# calculated_file 30_clients_europe_6\n",
            "############# calculated_file 30_clients_europe_9\n",
            "############# calculated_file 30_clients_europe_10\n",
            "############# calculated_file 30_clients_europe_11\n",
            "############# calculated_file 30_clients_europe_12\n",
            "############# calculated_file 30_clients_europe_13\n",
            "############# calculated_file 30_clients_europe_14\n",
            "############# calculated_file 30_clients_europe_15\n",
            "############# calculated_file 30_clients_europe_16\n",
            "############# calculated_file 30_clients_europe_17\n",
            "############# calculated_file 30_clients_europe_18\n",
            "############# calculated_file 30_clients_europe_19\n",
            "############# calculated_file 30_clients_europe_20\n"
          ]
        },
        {
          "output_type": "execute_result",
          "data": {
            "text/plain": [
              "[4193.9,\n",
              " 3828.2999999999997,\n",
              " 4046.0,\n",
              " 4154.0,\n",
              " 3958.1,\n",
              " 3777.3,\n",
              " 4626.2,\n",
              " 4255.1,\n",
              " 5086.0,\n",
              " 3836.7,\n",
              " 3972.8,\n",
              " 3998.0,\n",
              " 4269.3,\n",
              " 4028.2,\n",
              " 3773.6,\n",
              " 4625.5,\n",
              " 4303.6,\n",
              " 3974.4,\n",
              " 3784.1,\n",
              " 3807.8]"
            ]
          },
          "metadata": {},
          "execution_count": 23
        }
      ],
      "source": [
        "output_2_cvrp_cost_f = []\n",
        "\n",
        "\n",
        "for requested_file in files:\n",
        "  print(f\"############# calculated_file {requested_file}\")\n",
        "  file_idx = files.index(requested_file)\n",
        "  df = pd.read_csv(os.path.join(output_dir, requested_file))\n",
        "  df.fillna(10000000, inplace=True)\n",
        "  cost_R, cost_T, cost_G = create_cost_matrixes(df)\n",
        "\n",
        "  v_iterator = 0\n",
        "\n",
        "  demand_of_client = generate_list(10 + 1, 0 * 100 * 2)\n",
        "\n",
        "  output_2_cvrp_cost_f.append(cvrp_cost_f(10, 2, cost_R, demand_of_client, file_idx, \"R\"))\n",
        "\n",
        "output_2_cvrp_cost_f"
      ]
    },
    {
      "cell_type": "code",
      "execution_count": 24,
      "metadata": {
        "id": "Doh0q-Z6uk1S",
        "colab": {
          "base_uri": "https://localhost:8080/"
        },
        "outputId": "2fd1eef2-d6da-4b16-d84d-334767de9869"
      },
      "outputs": [
        {
          "output_type": "stream",
          "name": "stdout",
          "text": [
            "4114.945000000001\n",
            "160.56121978625325\n"
          ]
        }
      ],
      "source": [
        "# [4193.9,\n",
        "#  3828.2999999999997,\n",
        "#  4046.0,\n",
        "#  4154.0,\n",
        "#  3958.1,\n",
        "#  3777.3,\n",
        "#  4626.2,\n",
        "#  4255.1,\n",
        "#  5086.0,\n",
        "#  3836.7,\n",
        "#  3972.8,\n",
        "#  3998.0,\n",
        "#  4269.3,\n",
        "#  4028.2,\n",
        "#  3773.6,\n",
        "#  4625.5,\n",
        "#  4303.6,\n",
        "#  3974.4,\n",
        "#  3784.1,\n",
        "#  3807.8]\n",
        "print(np.mean(output_2_cvrp_cost_f))\n",
        "print(confidence_interval_t(output_2_cvrp_cost_f))"
      ]
    },
    {
      "cell_type": "markdown",
      "metadata": {
        "id": "iJQ3oeYG5Pg3"
      },
      "source": [
        "### 15 CLIENTS CVRP 2 cracow"
      ]
    },
    {
      "cell_type": "code",
      "execution_count": 92,
      "metadata": {
        "id": "T77jQdma5Pg3"
      },
      "outputs": [],
      "source": [
        "output_dir = 'X'\n",
        "files = [f for f in os.listdir(output_dir) if f.startswith(\"X\")]\n",
        "print(files)"
      ]
    },
    {
      "cell_type": "code",
      "source": [
        "output_2_cvrp_07 = []\n",
        "\n",
        "\n",
        "for requested_file in files:\n",
        "  print(f\"############# calculated_file {requested_file}\")\n",
        "  file_idx = files.index(requested_file)\n",
        "  df = pd.read_csv(os.path.join(output_dir, requested_file))\n",
        "  df.fillna(10000000, inplace=True)\n",
        "  cost_R, cost_T, cost_G = create_cost_matrixes(df)\n",
        "\n",
        "  v_iterator = 0\n",
        "\n",
        "  demand_of_client = generate_list(15 + 1, 0.7 * 100 * 2)\n",
        "\n",
        "  output_2_cvrp_07.append(cvrp(15, 2, cost_R, demand_of_client, file_idx, \"R\"))"
      ],
      "metadata": {
        "id": "265w4jbFDWmD"
      },
      "execution_count": null,
      "outputs": []
    },
    {
      "cell_type": "code",
      "execution_count": 60,
      "metadata": {
        "colab": {
          "base_uri": "https://localhost:8080/"
        },
        "outputId": "d8e7b3f0-14fc-4bc0-dc6d-de7a378a046e",
        "id": "vNKzrCyb5Pg5"
      },
      "outputs": [
        {
          "output_type": "stream",
          "name": "stdout",
          "text": [
            "56.898900000000005\n",
            "4.039152361950374\n"
          ]
        }
      ],
      "source": [
        "# [60.900000000000006,\n",
        "#  58.300000000000004,\n",
        "#  65.0,\n",
        "#  41.1,\n",
        "#  49.3,\n",
        "#  53.9,\n",
        "#  46.2,\n",
        "#  54.199999999999996,\n",
        "#  63.89999999999999,\n",
        "#  56.50000000000001,\n",
        "#  67.8,\n",
        "#  54.778,\n",
        "#  56.199999999999996,\n",
        "#  60.999999999999986,\n",
        "#  52.4,\n",
        "#  56.1,\n",
        "#  68.3,\n",
        "#  66.2,\n",
        "#  67.69999999999999,\n",
        "#  38.199999999999996]\n",
        "\n",
        "print(np.mean(output_2_cvrp_07))\n",
        "print(confidence_interval_t(output_2_cvrp_07))"
      ]
    },
    {
      "cell_type": "code",
      "source": [
        "output_2_cvrp_00 = []\n",
        "\n",
        "\n",
        "for requested_file in files:\n",
        "  print(f\"############# calculated_file {requested_file}\")\n",
        "  file_idx = files.index(requested_file)\n",
        "  df = pd.read_csv(os.path.join(output_dir, requested_file))\n",
        "  df.fillna(10000000, inplace=True)\n",
        "  cost_R, cost_T, cost_G = create_cost_matrixes(df)\n",
        "\n",
        "  v_iterator = 0\n",
        "\n",
        "  demand_of_client = generate_list(15 + 1, 0 * 100 * 2)\n",
        "\n",
        "  output_2_cvrp_00.append(cvrp(15, 2, cost_R, demand_of_client, file_idx, \"R\"))"
      ],
      "metadata": {
        "id": "u3xk0Vh3DcPG"
      },
      "execution_count": null,
      "outputs": []
    },
    {
      "cell_type": "code",
      "execution_count": 61,
      "metadata": {
        "colab": {
          "base_uri": "https://localhost:8080/"
        },
        "outputId": "674a8508-542d-417e-8bbc-7d84c93dab91",
        "id": "uPVSXB8u5Pg6"
      },
      "outputs": [
        {
          "output_type": "stream",
          "name": "stdout",
          "text": [
            "55.80890000000001\n",
            "4.058586284296022\n"
          ]
        }
      ],
      "source": [
        "# [60.000000000000014,\n",
        "#  58.199999999999996,\n",
        "#  64.60000000000001,\n",
        "#  39.9,\n",
        "#  47.699999999999996,\n",
        "#  53.6,\n",
        "#  46.199999999999996,\n",
        "#  52.3,\n",
        "#  61.89999999999999,\n",
        "#  54.8,\n",
        "#  66.89999999999999,\n",
        "#  51.578,\n",
        "#  53.79999999999999,\n",
        "#  60.199999999999996,\n",
        "#  52.400000000000006,\n",
        "#  56.0,\n",
        "#  67.69999999999999,\n",
        "#  63.8,\n",
        "#  67.4,\n",
        "#  37.199999999999996]\n",
        "\n",
        "print(np.mean(output_2_cvrp_00))\n",
        "print(confidence_interval_t(output_2_cvrp_00))"
      ]
    },
    {
      "cell_type": "code",
      "source": [
        "output_2_cvrp_stops = []\n",
        "\n",
        "\n",
        "for requested_file in files:\n",
        "  print(f\"############# calculated_file {requested_file}\")\n",
        "  file_idx = files.index(requested_file)\n",
        "  df = pd.read_csv(os.path.join(output_dir, requested_file))\n",
        "  df.fillna(10000000, inplace=True)\n",
        "  cost_R, cost_T, cost_G = create_cost_matrixes(df)\n",
        "\n",
        "  v_iterator = 0\n",
        "\n",
        "  demand_of_client = generate_list(15 + 1, 0 * 100 * 2)\n",
        "\n",
        "  output_2_cvrp_stops.append(cvrp_stops(15, 2, cost_R, demand_of_client, file_idx, \"R\"))"
      ],
      "metadata": {
        "id": "tYu-OccfDe7D"
      },
      "execution_count": null,
      "outputs": []
    },
    {
      "cell_type": "code",
      "execution_count": 63,
      "metadata": {
        "colab": {
          "base_uri": "https://localhost:8080/"
        },
        "outputId": "045c20e9-f5bb-45fe-c02d-5e400346463e",
        "id": "QYgXgTti5Pg6"
      },
      "outputs": [
        {
          "output_type": "stream",
          "name": "stdout",
          "text": [
            "56.95889999999999\n",
            "3.869970376620473\n"
          ]
        }
      ],
      "source": [
        "# [60.90000000000001,\n",
        "#  58.300000000000004,\n",
        "#  65.0,\n",
        "#  41.900000000000006,\n",
        "#  49.300000000000004,\n",
        "#  53.900000000000006,\n",
        "#  46.199999999999996,\n",
        "#  55.5,\n",
        "#  63.899999999999984,\n",
        "#  54.900000000000006,\n",
        "#  68.2,\n",
        "#  54.778000000000006,\n",
        "#  56.39999999999999,\n",
        "#  60.999999999999986,\n",
        "#  52.4,\n",
        "#  56.1,\n",
        "#  68.49999999999999,\n",
        "#  63.8,\n",
        "#  68.0,\n",
        "#  40.2]\n",
        "\n",
        "print(np.mean(output_2_cvrp_stops))\n",
        "print(confidence_interval_t(output_2_cvrp_stops))"
      ]
    },
    {
      "cell_type": "code",
      "source": [
        "output_2_cvrp_cost_f = []\n",
        "\n",
        "\n",
        "for requested_file in files:\n",
        "  print(f\"############# calculated_file {requested_file}\")\n",
        "  file_idx = files.index(requested_file)\n",
        "  df = pd.read_csv(os.path.join(output_dir, requested_file))\n",
        "  df.fillna(10000000, inplace=True)\n",
        "  cost_R, cost_T, cost_G = create_cost_matrixes(df)\n",
        "\n",
        "  v_iterator = 0\n",
        "\n",
        "  demand_of_client = generate_list(15 + 1, 0 * 100 * 2)\n",
        "\n",
        "  output_2_cvrp_cost_f.append(cvrp_cost_f(15, 2, cost_R, demand_of_client, file_idx, \"R\"))"
      ],
      "metadata": {
        "id": "_jYYAgAyDiHA"
      },
      "execution_count": null,
      "outputs": []
    },
    {
      "cell_type": "code",
      "execution_count": 68,
      "metadata": {
        "colab": {
          "base_uri": "https://localhost:8080/"
        },
        "outputId": "e270b79c-0a44-40e2-d2f2-e2367ca7d3a9",
        "id": "uSyn1NzG5Pg7"
      },
      "outputs": [
        {
          "output_type": "stream",
          "name": "stdout",
          "text": [
            "62.250999999999934\n",
            "3.604041405605295\n"
          ]
        }
      ],
      "source": [
        "# [65.6475832121236,\n",
        "#  67.26817679251899,\n",
        "#  58.07709746586681,\n",
        "#  50.14158501414372,\n",
        "#  61.996705554770145,\n",
        "#  65.65775874375274,\n",
        "#  73.45482574816872,\n",
        "#  73.25218660634607,\n",
        "#  61.710545882728034,\n",
        "#  62.327840414550934,\n",
        "#  56.90989001605611,\n",
        "#  54.21296778461513,\n",
        "#  52.134709741253296,\n",
        "#  78.6857126146004,\n",
        "#  60.822435241522584,\n",
        "#  61.34210732562989,\n",
        "#  55.427042649586156,\n",
        "#  70.16738990819559,\n",
        "#  52.80535447034183,\n",
        "#  62.97808481322761\n",
        "# ]\n",
        "\n",
        "print(np.mean(output_2_cvrp_cost_f))\n",
        "print(confidence_interval_t(output_2_cvrp_cost_f))"
      ]
    },
    {
      "cell_type": "markdown",
      "metadata": {
        "id": "HxmhIESK7gBJ"
      },
      "source": [
        "### 15 CLIENTS CVRP 2 europe"
      ]
    },
    {
      "cell_type": "code",
      "source": [
        "output_dir = 'X'\n",
        "files = [f for f in os.listdir(output_dir) if f.startswith(\"X\")]\n",
        "print(files)"
      ],
      "metadata": {
        "id": "eKFAIR2XOGpR"
      },
      "execution_count": 89,
      "outputs": []
    },
    {
      "cell_type": "code",
      "source": [
        "output_2_cvrp_07 = []\n",
        "\n",
        "for requested_file in files:\n",
        "  print(f\"############# calculated_file {requested_file}\")\n",
        "  file_idx = files.index(requested_file)\n",
        "  df = pd.read_csv(os.path.join(output_dir, requested_file))\n",
        "  df.fillna(10000000, inplace=True)\n",
        "  cost_R, cost_T, cost_G = create_cost_matrixes(df)\n",
        "\n",
        "  v_iterator = 0\n",
        "\n",
        "  demand_of_client = generate_list(15 + 1, 0.7 * 100 * 2)\n",
        "\n",
        "  output_2_cvrp_07.append(cvrp(15, 2, cost_R, demand_of_client, file_idx, \"R\"))"
      ],
      "metadata": {
        "id": "fJKH93HvDl8o"
      },
      "execution_count": null,
      "outputs": []
    },
    {
      "cell_type": "code",
      "execution_count": 80,
      "metadata": {
        "colab": {
          "base_uri": "https://localhost:8080/"
        },
        "outputId": "77eab1ba-544e-4b6f-8729-6f877fdba29b",
        "id": "KLMseIwN7gBR"
      },
      "outputs": [
        {
          "output_type": "stream",
          "name": "stdout",
          "text": [
            "4411.174999999998\n",
            "281.63753553828116\n"
          ]
        }
      ],
      "source": [
        "# [4618.0,\n",
        "#  4215.7,\n",
        "#  3570.5,\n",
        "#  4986.7,\n",
        "#  4410.799999999999,\n",
        "#  4857.200000000001,\n",
        "#  4388.3, 4889.0,\n",
        "#  5270.599999999999,\n",
        "#  3036.6000000000004,\n",
        "#  4755.8,\n",
        "#  5267.0,\n",
        "#  4902.3,\n",
        "#  4425.2,\n",
        "#  3851.3,\n",
        "#  4505.8,\n",
        "#  4549.7,\n",
        "#  4461.4,\n",
        "#  3471.2,\n",
        "#  3790.4]\n",
        "\n",
        "print(np.mean(output_2_cvrp_07))\n",
        "print(confidence_interval_t(output_2_cvrp_07))"
      ]
    },
    {
      "cell_type": "code",
      "source": [
        "output_2_cvrp_00 = []\n",
        "\n",
        "\n",
        "for requested_file in files:\n",
        "  print(f\"############# calculated_file {requested_file}\")\n",
        "  file_idx = files.index(requested_file)\n",
        "  df = pd.read_csv(os.path.join(output_dir, requested_file))\n",
        "  df.fillna(10000000, inplace=True)\n",
        "  cost_R, cost_T, cost_G = create_cost_matrixes(df)\n",
        "\n",
        "  v_iterator = 0\n",
        "\n",
        "  demand_of_client = generate_list(15 + 1, 0 * 100 * 2)\n",
        "\n",
        "  output_2_cvrp_00.append(cvrp(15, 2, cost_R, demand_of_client, file_idx, \"R\"))"
      ],
      "metadata": {
        "id": "SnEABS8XDp8Q"
      },
      "execution_count": null,
      "outputs": []
    },
    {
      "cell_type": "code",
      "execution_count": 85,
      "metadata": {
        "colab": {
          "base_uri": "https://localhost:8080/"
        },
        "outputId": "6c182bd7-1442-40ad-b355-730ca91cf410",
        "id": "tfrAfkTI7gBR"
      },
      "outputs": [
        {
          "output_type": "stream",
          "name": "stdout",
          "text": [
            "4108.174999999999\n",
            "255.17223819805957\n"
          ]
        }
      ],
      "source": [
        "# [4445.1,\n",
        "#  4137.3,\n",
        "#  4261.0,\n",
        "#  4618.0,\n",
        "#  3845.0,\n",
        "#  3495.5,\n",
        "#  4561.9,\n",
        "#  4340.799999999999,\n",
        "#  5213.6,\n",
        "#  3036.6,\n",
        "#  4502.8,\n",
        "#  4809.0,\n",
        "#  4122.4,\n",
        "#  3928.2,\n",
        "#  3636.3,\n",
        "#  4295.3,\n",
        "#  4072.1,\n",
        "#  4194.4,\n",
        "#  3315.2000000000003,\n",
        "#  3332.999999999999]\n",
        "\n",
        "print(np.mean(output_2_cvrp_00))\n",
        "print(confidence_interval_t(output_2_cvrp_00))"
      ]
    },
    {
      "cell_type": "code",
      "source": [
        "output_2_cvrp_stops = []\n",
        "\n",
        "\n",
        "for requested_file in files:\n",
        "  print(f\"############# calculated_file {requested_file}\")\n",
        "  file_idx = files.index(requested_file)\n",
        "  df = pd.read_csv(os.path.join(output_dir, requested_file))\n",
        "  df.fillna(10000000, inplace=True)\n",
        "  cost_R, cost_T, cost_G = create_cost_matrixes(df)\n",
        "\n",
        "  v_iterator = 0\n",
        "\n",
        "  demand_of_client = generate_list(15 + 1, 0 * 100 * 2)\n",
        "\n",
        "  output_2_cvrp_stops.append(cvrp_stops(15, 2, cost_R, demand_of_client, file_idx, \"R\"))\n",
        "\n",
        "  output_2_cvrp_00.append(cvrp(15, 2, cost_R, demand_of_client, file_idx, \"R\"))"
      ],
      "metadata": {
        "id": "V6c4i9dfDsMc"
      },
      "execution_count": null,
      "outputs": []
    },
    {
      "cell_type": "code",
      "execution_count": 86,
      "metadata": {
        "colab": {
          "base_uri": "https://localhost:8080/"
        },
        "outputId": "a55fea5f-fb4d-48fa-aff2-64ef51012f68",
        "id": "iTO9oIZ07gBR"
      },
      "outputs": [
        {
          "output_type": "stream",
          "name": "stdout",
          "text": [
            "4523.004\n",
            "208.26651845248105\n"
          ]
        }
      ],
      "source": [
        "# [\n",
        "#  4618.0,\n",
        "#  4270.700000000001,\n",
        "#  3740.5,\n",
        "#  5140.7,\n",
        "#  4864.8,\n",
        "#  4857.200000000001,\n",
        "#  4388.3,\n",
        "#  4952.0,\n",
        "#  4618.0,\n",
        "#  4270.700000000001,\n",
        "#  3740.5,\n",
        "#  5140.7,\n",
        "#  4864.8,\n",
        "#  5270.6,\n",
        "#  3619.6,\n",
        "#  4826.8,\n",
        "#  5267.0,\n",
        "#  4902.3,\n",
        "#  4405.2,\n",
        "#  3901.2999999999997,\n",
        "#  4505.8,\n",
        "#  4549.7,\n",
        "#  4580.4,\n",
        "#  3720.1000000000004,\n",
        "#  4059.3999999999996]\n",
        "\n",
        "print(np.mean(output_2_cvrp_stops))\n",
        "print(confidence_interval_t(output_2_cvrp_stops))"
      ]
    },
    {
      "cell_type": "code",
      "source": [
        "output_2_cvrp_cost_f = []\n",
        "\n",
        "\n",
        "for requested_file in files:\n",
        "  print(f\"############# calculated_file {requested_file}\")\n",
        "  file_idx = files.index(requested_file)\n",
        "  df = pd.read_csv(os.path.join(output_dir, requested_file))\n",
        "  df.fillna(10000000, inplace=True)\n",
        "  cost_R, cost_T, cost_G = create_cost_matrixes(df)\n",
        "\n",
        "  v_iterator = 0\n",
        "\n",
        "  demand_of_client = generate_list(15 + 1, 0 * 100 * 2)\n",
        "\n",
        "  output_2_cvrp_cost_f.append(cvrp_cost_f(15, 2, cost_R, demand_of_client, file_idx, \"R\"))"
      ],
      "metadata": {
        "id": "E2iOzPcQDuXa"
      },
      "execution_count": null,
      "outputs": []
    },
    {
      "cell_type": "code",
      "execution_count": 84,
      "metadata": {
        "colab": {
          "base_uri": "https://localhost:8080/"
        },
        "outputId": "3f8a98c8-a4d0-4d96-9a37-0759f27c3b83",
        "id": "iGSJmlHm7gBR"
      },
      "outputs": [
        {
          "output_type": "stream",
          "name": "stdout",
          "text": [
            "4884.08\n",
            "172.30085274262873\n"
          ]
        }
      ],
      "source": [
        "# [4885.200000000001,\n",
        "#   4802.3,\n",
        "#   4980.0,\n",
        "#   4713.2,\n",
        "#   5066.9,\n",
        "#   5274.7,\n",
        "#   4604.6,\n",
        "#   5211.4,\n",
        "#   5075.1,\n",
        "#   5195.4,\n",
        "#   4947.6,\n",
        "#   5428.4,\n",
        "#   4683.1,\n",
        "#   4903.1,\n",
        "#   4659.6,\n",
        "#   4946.300000000001,\n",
        "#   4289.8,\n",
        "#   5540.8,\n",
        "#   4172.400000000001,\n",
        "#   4301.7\n",
        "# ]\n",
        "\n",
        "print(np.mean(output_2_cvrp_cost_f))\n",
        "print(confidence_interval_t(output_2_cvrp_cost_f))"
      ]
    },
    {
      "cell_type": "markdown",
      "source": [
        "### WYKRESY"
      ],
      "metadata": {
        "id": "SI4wRvUaOgZx"
      }
    },
    {
      "cell_type": "code",
      "source": [
        "import matplotlib.pyplot as plt\n",
        "import pandas as pd\n",
        "import numpy as np\n",
        "\n",
        "data = {\n",
        "    'number of points': ['10 points', '15 points'],\n",
        "    'no delivery demand': [43.36, 55.80890000000001],\n",
        "    '70% capacity generated': [44.394999999999996,56.898900000000005],\n",
        "    'no. stops constraint': [44.585,56.958899999999991],\n",
        "    'cost function constraints': [50.18,62.250999999999934]\n",
        "}\n",
        "\n",
        "df = pd.DataFrame(data)\n",
        "\n",
        "error_data = {\n",
        "    'no delivery demand': [5.215797907864966, 4.058586284296022],\n",
        "    '70% capacity generated': [5.1412898639301945, 4.039152361950374],\n",
        "    'no. stops constraint': [5.118925903681601, 3.869970376620473],\n",
        "    'cost function constraints': [2.691734979345827, 3.604041405605295]\n",
        "}\n",
        "\n",
        "errors_df = pd.DataFrame(error_data)\n",
        "\n",
        "fig, ax = plt.subplots(figsize=(8, 6))\n",
        "plt.grid()\n",
        "\n",
        "df_plot = df.set_index(['number of points'])\n",
        "\n",
        "df_plot.plot(kind='bar', yerr=errors_df.values.T, ax=ax, capsize=5)\n",
        "\n",
        "ax.set_ylabel('Cost function values')\n",
        "ax.set_xlabel('Number of Points')\n",
        "\n",
        "plt.legend(title='', loc='upper right', bbox_to_anchor=(0.4, 1))\n",
        "\n",
        "plt.xticks(rotation=0)\n",
        "\n",
        "plt.show()"
      ],
      "metadata": {
        "colab": {
          "base_uri": "https://localhost:8080/",
          "height": 542
        },
        "id": "_kKJ-MoPOcaD",
        "outputId": "cd9ad42b-ddad-44c6-a62d-d9426cd5457c"
      },
      "execution_count": 99,
      "outputs": [
        {
          "output_type": "display_data",
          "data": {
            "text/plain": [
              "<Figure size 800x600 with 1 Axes>"
            ],
            "image/png": "[encoded data removed]"
          },
          "metadata": {}
        }
      ]
    },
    {
      "cell_type": "code",
      "source": [
        "import matplotlib.pyplot as plt\n",
        "import pandas as pd\n",
        "import numpy as np\n",
        "\n",
        "data = {\n",
        "    'number of points': ['10 points', '15 points'],\n",
        "    'no delivery demand': [3524.9700000000003,4108.174999999999],\n",
        "    '70% capacity generated': [3764.5150000000003, 4411.174999999998],\n",
        "    'no. stops constraint': [3776.1150000000002,4523.004],\n",
        "    'cost function constraints': [4114.945000000001,4887.166666666551]\n",
        "}\n",
        "\n",
        "df = pd.DataFrame(data)\n",
        "\n",
        "\n",
        "error_data = {\n",
        "    'no delivery demand': [238.9848654270052, 255.17223819805957],\n",
        "    '70% capacity generated': [225.35364966745104, 281.63753553828116],\n",
        "    'no. stops constraint': [254.660279790081, 208.266518452481051],\n",
        "    'cost function constraints': [160.56121978625325, 172.29610447044072]\n",
        "}\n",
        "\n",
        "errors_df = pd.DataFrame(error_data)\n",
        "\n",
        "fig, ax = plt.subplots(figsize=(8, 6))\n",
        "plt.grid()\n",
        "\n",
        "df_plot = df.set_index(['number of points'])\n",
        "\n",
        "df_plot.plot(kind='bar', yerr=errors_df.values.T, ax=ax, capsize=5)\n",
        "\n",
        "ax.set_ylabel('Cost function values')\n",
        "ax.set_xlabel('Number of Points')\n",
        "\n",
        "plt.legend(title='', loc='upper right', bbox_to_anchor=(0.4, 1))\n",
        "\n",
        "plt.xticks(rotation=0)\n",
        "\n",
        "plt.show()"
      ],
      "metadata": {
        "colab": {
          "base_uri": "https://localhost:8080/",
          "height": 542
        },
        "id": "snnSL6YWOcdS",
        "outputId": "7cac4c40-080f-48cd-daf5-b597e759c5a6"
      },
      "execution_count": 100,
      "outputs": [
        {
          "output_type": "display_data",
          "data": {
            "text/plain": [
              "<Figure size 800x600 with 1 Axes>"
            ],
            "image/png": "[encoded data removed]"
          },
          "metadata": {}
        }
      ]
    }
  ],
  "metadata": {
    "colab": {
      "collapsed_sections": [
        "1jlEZqjxVJc3",
        "R_wzLWZTuk1B",
        "iJQ3oeYG5Pg3"
      ],
      "machine_shape": "hm",
      "provenance": []
    },
    "kernelspec": {
      "display_name": "Python 3",
      "name": "python3"
    },
    "language_info": {
      "name": "python"
    }
  },
  "nbformat": 4,
  "nbformat_minor": 0
}