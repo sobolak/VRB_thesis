{
  "cells": [
    {
      "cell_type": "markdown",
      "source": [
        "### PREPARATION\n"
      ],
      "metadata": {
        "id": "Z_7fua0TLE-3"
      }
    },
    {
      "cell_type": "code",
      "execution_count": 1,
      "metadata": {
        "colab": {
          "base_uri": "https://localhost:8080/"
        },
        "id": "GnEBzS4Rl-x2",
        "outputId": "2c7a9eb2-6d0f-4040-ccee-ebd50c292b56"
      },
      "outputs": [
        {
          "output_type": "stream",
          "name": "stdout",
          "text": [
            "Collecting pulp\n",
            "  Downloading PuLP-2.9.0-py3-none-any.whl.metadata (5.4 kB)\n",
            "Downloading PuLP-2.9.0-py3-none-any.whl (17.7 MB)\n",
            "\u001b[2K   \u001b[90m━━━━━━━━━━━━━━━━━━━━━━━━━━━━━━━━━━━━━━━━\u001b[0m \u001b[32m17.7/17.7 MB\u001b[0m \u001b[31m22.0 MB/s\u001b[0m eta \u001b[36m0:00:00\u001b[0m\n",
            "\u001b[?25hInstalling collected packages: pulp\n",
            "Successfully installed pulp-2.9.0\n"
          ]
        }
      ],
      "source": [
        "!pip install pulp\n",
        "\n",
        "import math\n",
        "import gdown\n",
        "import matplotlib.pyplot as plt\n",
        "import networkx as nx\n",
        "import numpy as np\n",
        "import pprint\n",
        "import random\n",
        "import pandas as pd\n",
        "import pulp\n",
        "import itertools\n",
        "import requests\n",
        "import random\n",
        "from geopy.distance import geodesic\n",
        "import time\n",
        "import pandas as pd\n",
        "import os"
      ]
    },
    {
      "cell_type": "code",
      "execution_count": 2,
      "metadata": {
        "id": "6xqzhgPJmEeG"
      },
      "outputs": [],
      "source": [
        "def generate_list(n, target_sum):\n",
        "    if n <= 1:\n",
        "        raise ValueError(\"The length of the list must be greater than 1.\")\n",
        "    if target_sum < 0:\n",
        "        raise ValueError(\"The target sum must be non-negative.\")\n",
        "    result = [0]\n",
        "    random_values = np.random.rand(n - 1)\n",
        "    random_values *= target_sum / np.sum(random_values)\n",
        "    rounded_values = np.round(random_values, 2)\n",
        "    difference = target_sum - np.sum(rounded_values)\n",
        "\n",
        "    if len(rounded_values) > 0:\n",
        "        rounded_values[-1] += difference\n",
        "\n",
        "    result.extend(rounded_values)\n",
        "\n",
        "    return result\n",
        "\n",
        "def generate_demand_list(n, m, target_sum):\n",
        "    if n <= 1:\n",
        "        raise ValueError(\"The length of the list must be greater than 1.\")\n",
        "    if m >= n:\n",
        "        raise ValueError(\"M must be less than N.\")\n",
        "    if target_sum < 0:\n",
        "        raise ValueError(\"The target sum must be non-negative.\")\n",
        "\n",
        "    random_values = np.random.rand(n - m - 1)\n",
        "    random_values *= target_sum / np.sum(random_values)\n",
        "    rounded_values = np.round(random_values, 2)\n",
        "    difference = target_sum - np.sum(rounded_values)\n",
        "\n",
        "    if len(rounded_values) > 0:\n",
        "        rounded_values[-1] += difference\n",
        "\n",
        "    zeros_list = [0] * m\n",
        "\n",
        "    result = list(rounded_values) + zeros_list\n",
        "\n",
        "    random.shuffle(result)\n",
        "\n",
        "    result = [-1] + result\n",
        "\n",
        "    return result\n",
        "\n",
        "def replace_zeros_with_sum(input_list, target_sum):\n",
        "    zero_positions = [i for i, value in enumerate(input_list) if value == 0]\n",
        "    num_zeros = len(zero_positions)\n",
        "\n",
        "    result = input_list.copy()\n",
        "\n",
        "    if num_zeros == 0:\n",
        "        raise ValueError(\"There are no zeros to replace in the list.\")\n",
        "\n",
        "    random_values = np.random.rand(num_zeros)\n",
        "    random_values *= target_sum / np.sum(random_values)\n",
        "    rounded_values = np.round(random_values, 2)\n",
        "    difference = target_sum - np.sum(rounded_values)\n",
        "\n",
        "    if len(rounded_values) > 0:\n",
        "        rounded_values[-1] += difference\n",
        "\n",
        "    for i, pos in enumerate(zero_positions):\n",
        "        result[pos] = rounded_values[i]\n",
        "\n",
        "    return result\n",
        "\n",
        "def find_paths_vrb(edges, k):\n",
        "    def find_path_vrb(current_path):\n",
        "        if len(paths) >= k:\n",
        "            return\n",
        "\n",
        "        last_node = current_path[-1]\n",
        "\n",
        "        if last_node == 0 and len(current_path) > 1:\n",
        "            paths.append(\"->\".join(map(str, current_path)))\n",
        "            return\n",
        "\n",
        "        for edge in edges:\n",
        "            if edge[0] == last_node:\n",
        "                find_path_vrb(current_path + [edge[1]])\n",
        "\n",
        "    paths = []\n",
        "    find_path_vrb([0])\n",
        "\n",
        "    return paths\n",
        "def repetitions(list1, list2):\n",
        "  common_elements = set(list1) & set(list2)\n",
        "  return (2*len(common_elements))/len(list1+list2)\n",
        "\n",
        "def equal_paths(list1, list2):\n",
        "  are_equal = sorted(list1) == sorted(list2)\n",
        "  if are_equal:\n",
        "    return 1\n",
        "  else:\n",
        "    return 0"
      ]
    },
    {
      "cell_type": "code",
      "execution_count": 3,
      "metadata": {
        "colab": {
          "base_uri": "https://localhost:8080/"
        },
        "id": "J_sBl_jqmEmq",
        "outputId": "6a1d065e-822a-40bf-bd8d-ccb5bf779db3"
      },
      "outputs": [
        {
          "output_type": "stream",
          "name": "stdout",
          "text": [
            "    Original Latitude  Original Longitude  Snapped Latitude  Snapped Longitude\n",
            "0           50.050360           19.963734         50.050428          19.963786\n",
            "1           50.073607           20.045935         50.073384          20.045741\n",
            "2           50.094664           20.017257         50.094609          20.016973\n",
            "3           50.059735           19.867351         50.059320          19.867208\n",
            "4           50.041098           20.000920         50.041162          20.000314\n",
            "5           50.095299           19.944809         50.095389          19.944873\n",
            "6           50.011595           20.034836         50.011603          20.034905\n",
            "7           50.040565           20.028741         50.040220          20.028809\n",
            "8           50.036358           19.937026         50.036059          19.936960\n",
            "9           50.007445           20.002817         50.007440          20.002814\n",
            "10          50.000989           19.998498         50.001006          19.998493\n"
          ]
        }
      ],
      "source": [
        "data = {\n",
        "    'Original Latitude': [50.050360, 50.073607, 50.094664, 50.059735, 50.041098,\n",
        "                          50.095299, 50.011595, 50.040565, 50.036358, 50.007445, 50.000989],\n",
        "    'Original Longitude': [19.963734, 20.045935, 20.017257, 19.867351, 20.000920,\n",
        "                           19.944809, 20.034836, 20.028741, 19.937026, 20.002817, 19.998498],\n",
        "    'Snapped Latitude': [50.050428, 50.073384, 50.094609, 50.059320, 50.041162,\n",
        "                         50.095389, 50.011603, 50.040220, 50.036059, 50.007440, 50.001006],\n",
        "    'Snapped Longitude': [19.963786, 20.045741, 20.016973, 19.867208, 20.000314,\n",
        "                          19.944873, 20.034905, 20.028809, 19.936960, 20.002814, 19.998493]\n",
        "}\n",
        "\n",
        "df = pd.DataFrame(data)\n",
        "\n",
        "print(df)\n",
        "number_of_clients = 100\n",
        "cost_R = np.ones((number_of_clients + 1, number_of_clients + 1))\n",
        "cost_T = np.ones((number_of_clients + 1, number_of_clients + 1))\n",
        "cost_G = np.ones((number_of_clients + 1, number_of_clients + 1))"
      ]
    },
    {
      "cell_type": "markdown",
      "source": [
        "### CVRP"
      ],
      "metadata": {
        "id": "_nVIDNJ1FiHG"
      }
    },
    {
      "cell_type": "code",
      "execution_count": 4,
      "metadata": {
        "id": "FQmTL7oWmEpB"
      },
      "outputs": [],
      "source": [
        "def find_paths_vrb(edges, k):\n",
        "    def find_path_vrb(current_path):\n",
        "        if len(paths) >= k:\n",
        "            return\n",
        "\n",
        "        last_node = current_path[-1]\n",
        "\n",
        "        if last_node == 0 and len(current_path) > 1:\n",
        "            paths.append(\"->\".join(map(str, current_path)))\n",
        "            return\n",
        "\n",
        "        for edge in edges:\n",
        "            if edge[0] == last_node:\n",
        "                find_path_vrb(current_path + [edge[1]])\n",
        "\n",
        "    paths = []\n",
        "    find_path_vrb([0])\n",
        "\n",
        "    return paths\n",
        "\n",
        "def create_path_as_list(pairs_list):\n",
        "    wanted_length = len(pairs_list)\n",
        "    path = ''\n",
        "    current_pair = next(pair for pair in pairs_list if pair[0] == 0)\n",
        "    path += str(current_pair[0])\n",
        "\n",
        "    next_start = current_pair[1]\n",
        "\n",
        "    pairs_list.remove(current_pair)\n",
        "\n",
        "    while len(path) < wanted_length:\n",
        "        path += str(next_start)\n",
        "        current_pair = next(pair for pair in pairs_list if pair[0] == next_start)\n",
        "        pairs_list.remove(current_pair)\n",
        "        next_start = current_pair[1]\n",
        "\n",
        "    return path\n",
        "\n",
        "def cvrp(number_of_clients, number_of_vehicles, cost_buffor, demand_of_client):\n",
        "    problem = pulp.LpProblem(\"CVRP\", pulp.LpMinimize)\n",
        "\n",
        "    capacity_of_vehicle = 100\n",
        "    x = [[[pulp.LpVariable(f\"x{i}_{j},{k}\", cat=\"Binary\") if i != j else None\n",
        "          for k in range(number_of_vehicles)]\n",
        "          for j in range(number_of_clients + 1)]\n",
        "        for i in range(number_of_clients + 1)]\n",
        "\n",
        "    problem += pulp.lpSum(cost_buffor[i][j] * x[i][j][k] if i != j else 0\n",
        "                          for k in range(number_of_vehicles)\n",
        "                          for j in range(number_of_clients + 1)\n",
        "                          for i in range(number_of_clients + 1))\n",
        "\n",
        "    for j in range(1, number_of_clients + 1):\n",
        "        problem += pulp.lpSum(x[i][j][k] if i != j else 0\n",
        "                              for i in range(number_of_clients + 1)\n",
        "                              for k in range(number_of_vehicles)) == 1\n",
        "\n",
        "    for k in range(number_of_vehicles):\n",
        "        problem += pulp.lpSum(x[0][j][k] for j in range(1, number_of_clients + 1)) == 1\n",
        "        problem += pulp.lpSum(x[i][0][k] for i in range(1, number_of_clients + 1)) == 1\n",
        "\n",
        "    for k in range(number_of_vehicles):\n",
        "        for j in range(number_of_clients + 1):\n",
        "            problem += pulp.lpSum(x[i][j][k] if i != j else 0\n",
        "                                  for i in range(number_of_clients + 1)) - \\\n",
        "                      pulp.lpSum(x[j][i][k] for i in range(number_of_clients + 1)) == 0\n",
        "\n",
        "    for k in range(number_of_vehicles):\n",
        "        problem += pulp.lpSum(demand_of_client[j] * x[i][j][k] if i != j else 0\n",
        "                              for i in range(number_of_clients + 1)\n",
        "                              for j in range(1, number_of_clients + 1)) <= capacity_of_vehicle\n",
        "\n",
        "    u = pulp.LpVariable.dicts(\"u\", range(1, number_of_clients + 1), 0, number_of_clients, cat=\"Continuous\")\n",
        "    for i in range(1, number_of_clients + 1):\n",
        "        for j in range(1, number_of_clients + 1):\n",
        "            if i != j:\n",
        "                for k in range(number_of_vehicles):\n",
        "                    problem += u[i] - u[j] + (number_of_clients * x[i][j][k]) <= number_of_clients - 1\n",
        "\n",
        "    problem.solve()\n",
        "\n",
        "    all_uesd_edges = []\n",
        "    paths = [[] for _ in range(number_of_vehicles)]\n",
        "\n",
        "    for k in range(number_of_vehicles):\n",
        "        for i in range(number_of_clients + 1):\n",
        "            for j in range(number_of_clients + 1):\n",
        "                if i != j and pulp.value(x[i][j][k]) == 1:\n",
        "                    all_uesd_edges.append((i, j))\n",
        "                    paths[k].append((i, j))\n",
        "    print(all_uesd_edges)\n",
        "\n",
        "    result_paths = find_paths_vrb(all_uesd_edges, number_of_vehicles)\n",
        "    print(result_paths)\n",
        "\n",
        "    return pulp.value(problem.objective)"
      ]
    },
    {
      "cell_type": "code",
      "execution_count": 5,
      "metadata": {
        "id": "_yPhMs1bmErL"
      },
      "outputs": [],
      "source": [
        "number_of_clients = 10\n",
        "number_of_vehicles = 2\n",
        "capacity_of_vehicle = 100\n",
        "demand_of_client = generate_list(number_of_clients + 1, 0.7 * capacity_of_vehicle * number_of_vehicles)"
      ]
    },
    {
      "cell_type": "code",
      "execution_count": 6,
      "metadata": {
        "colab": {
          "base_uri": "https://localhost:8080/"
        },
        "id": "EQOz8DaTmEtS",
        "outputId": "5baacf48-e4f7-4ee6-b867-65cfbfc9f17b"
      },
      "outputs": [
        {
          "output_type": "stream",
          "name": "stdout",
          "text": [
            "[(0, 4), (2, 0), (3, 6), (4, 3), (5, 2), (6, 5), (0, 10), (1, 8), (7, 1), (8, 0), (9, 7), (10, 9)]\n",
            "['0->4->3->6->5->2->0', '0->10->9->7->1->8->0']\n"
          ]
        },
        {
          "output_type": "execute_result",
          "data": {
            "text/plain": [
              "12.0"
            ]
          },
          "metadata": {},
          "execution_count": 6
        }
      ],
      "source": [
        "demand_of_client = generate_list(number_of_clients + 1, 0.85 * capacity_of_vehicle * number_of_vehicles)\n",
        "cvrp(number_of_clients, number_of_vehicles, cost_R, demand_of_client)"
      ]
    },
    {
      "cell_type": "code",
      "execution_count": 7,
      "metadata": {
        "colab": {
          "base_uri": "https://localhost:8080/"
        },
        "id": "NfsEaiFlmEvS",
        "outputId": "c486b5b0-921d-4015-ccd6-ed07faa74959"
      },
      "outputs": [
        {
          "output_type": "stream",
          "name": "stdout",
          "text": [
            "[(0, 9), (4, 8), (8, 10), (9, 4), (10, 0), (0, 5), (1, 0), (2, 6), (3, 2), (5, 7), (6, 1), (7, 3)]\n",
            "['0->9->4->8->10->0', '0->5->7->3->2->6->1->0']\n"
          ]
        },
        {
          "output_type": "execute_result",
          "data": {
            "text/plain": [
              "12.0"
            ]
          },
          "metadata": {},
          "execution_count": 7
        }
      ],
      "source": [
        "demand_of_client = generate_list(number_of_clients + 1, 0.85 * capacity_of_vehicle * number_of_vehicles)\n",
        "cvrp(number_of_clients, number_of_vehicles, cost_G, demand_of_client)"
      ]
    },
    {
      "cell_type": "markdown",
      "source": [
        "### VRPTW\n"
      ],
      "metadata": {
        "id": "Jm-R6-zhFl0R"
      }
    },
    {
      "cell_type": "code",
      "execution_count": 8,
      "metadata": {
        "id": "XC0x3sXHZazj"
      },
      "outputs": [],
      "source": [
        "def find_paths_vrb(edges, k, depot_one_more_time):\n",
        "    def find_path_vrb(current_path):\n",
        "        if len(paths) >= k:\n",
        "            return\n",
        "\n",
        "        last_node = current_path[-1]\n",
        "\n",
        "        if last_node == depot_one_more_time and len(current_path) > 1:\n",
        "            paths.append(current_path)\n",
        "            return\n",
        "\n",
        "        for edge in edges:\n",
        "            if edge[0] == last_node:\n",
        "                find_path_vrb(current_path + [edge[1]])\n",
        "\n",
        "    paths = []\n",
        "    find_path_vrb([0])\n",
        "\n",
        "    return paths\n",
        "\n",
        "def vrptw(number_of_clients, number_of_vehicles, cost_buffor, a, b, t, T):\n",
        "      n = number_of_clients\n",
        "      c = number_of_vehicles\n",
        "      Q = 100\n",
        "      M = 10000000\n",
        "\n",
        "\n",
        "      cost_shiffted = cost_buffor.tolist()\n",
        "      cost_shiffted.append(cost_shiffted[0])\n",
        "      iterator = 0\n",
        "      for row in cost_shiffted:\n",
        "        cost_shiffted[iterator].append(cost_shiffted[iterator][0])\n",
        "        iterator += 1\n",
        "\n",
        "      T = T.tolist()\n",
        "      T.append(T[0])\n",
        "      iterator = 0\n",
        "      for row in T:\n",
        "        T[iterator].append(T[iterator][0])\n",
        "        iterator += 1\n",
        "\n",
        "      prob = pulp.LpProblem(\"VRPTW\", pulp.LpMinimize)\n",
        "\n",
        "      x = pulp.LpVariable.dicts(\"x\", [(i,j,k) for i in range(n+1) for j in range(1, n+2) for k in range(c)], cat='Binary')\n",
        "      s = pulp.LpVariable.dicts(\"s\", [(i,k) for i in range(n+2) for k in range(c)], lowBound=0, cat='Continuous')\n",
        "\n",
        "      prob += pulp.lpSum(cost_shiffted[i][j] * x[(i,j,k)] for i in range(n+1) for j in range(1, n+2) for k in range(c))\n",
        "\n",
        "      for j in range(1, n+1):\n",
        "          prob += pulp.lpSum(x[(i,j,k)] for i in range(n+1) for k in range(c)) == 1\n",
        "\n",
        "      for i in range(1, n+1):\n",
        "          prob += pulp.lpSum(x[(i,j,k)] for j in range(1, n+2) for k in range(c)) == 1\n",
        "\n",
        "      for k in range(c):\n",
        "          prob += pulp.lpSum(x[i,n+1,k] for i in range(n+1)) == 1\n",
        "\n",
        "      for k in range(c):\n",
        "          prob += pulp.lpSum(x[0,j,k] for j in range(1, n+2)) == 1\n",
        "\n",
        "      for m in range(1, n+1):\n",
        "        for k in range(c):\n",
        "          prob += pulp.lpSum(x[(i,m,k)] for i in range(n+1) if i != m) == pulp.lpSum(x[(m,j,k)] for j in range(1,n+2) if j != m)\n",
        "\n",
        "      for k in range(c):\n",
        "        prob += x[0,n+1,k] == 0\n",
        "\n",
        "      for i in range(n+1):\n",
        "        for j in range(1,n+2):\n",
        "          for k in range(c):\n",
        "            if i == j:\n",
        "              prob += x[(i,j,k)] == 0\n",
        "\n",
        "      for i in range(n+1):\n",
        "        for j in range(1,n+2):\n",
        "          for k in range(c):\n",
        "            prob += s[(i,k)] + t[i] + T[i][j] <= s[(j,k)] + M*(1 - x[(i,j,k)])\n",
        "\n",
        "      for i in range(1, n+1):\n",
        "        for k in range(c):\n",
        "          prob += M*(pulp.lpSum(x[i,j,k] for j in range(1,n+2)) - 1) + a[i] <= s[(i,k)]\n",
        "\n",
        "      for i in range(1, n+1):\n",
        "        for k in range(c):\n",
        "          prob += s[(i,k)] + t[i] <= b[i] + M*(1 - pulp.lpSum(x[(i,j,k)] for j in range(1,n+2)))\n",
        "\n",
        "\n",
        "      prob.solve()\n",
        "      print(pulp.LpStatus[prob.status])\n",
        "\n",
        "      all_uesd_edges = []\n",
        "      paths = [[] for _ in range(c)]\n",
        "\n",
        "      for k in range(c):\n",
        "          for i in range(n + 1):\n",
        "              for j in range(1, n + 2):\n",
        "                  if i != j and pulp.value(x[i,j,k]) == 1:\n",
        "                      all_uesd_edges.append((i, j))\n",
        "                      paths[k].append((i, j))\n",
        "      print(all_uesd_edges)\n",
        "      result_paths = find_paths_vrb(all_uesd_edges, number_of_clients, number_of_clients+1)\n",
        "\n",
        "      print(result_paths)"
      ]
    },
    {
      "cell_type": "code",
      "execution_count": 9,
      "metadata": {
        "colab": {
          "base_uri": "https://localhost:8080/"
        },
        "id": "gN5q-brlZa1y",
        "outputId": "6ac7b46c-f2f5-4747-82eb-7661ce27ff74"
      },
      "outputs": [
        {
          "output_type": "stream",
          "name": "stdout",
          "text": [
            "[20, 5, 22, 26, 22, 27, 17, 4, 8, 14]\n",
            "[60, 45, 62, 66, 62, 67, 57, 44, 48, 54, 186]\n"
          ]
        }
      ],
      "source": [
        "number_of_clients = 10\n",
        "capacity_of_vehicle = 100\n",
        "number_of_vehicles = 2\n",
        "service_time = 5\n",
        "\n",
        "median = np.median(cost_T)\n",
        "max_time = math.floor(number_of_clients * median + service_time*number_of_clients/number_of_vehicles) +1\n",
        "\n",
        "t = [service_time] * (number_of_clients + 10)\n",
        "a = [0] * (number_of_clients + 1)\n",
        "b = [max_time] * (number_of_clients + 2)\n",
        "\n",
        "a = [0, 60, 30, 0, 150, 0, 60, 40, 0, 0, 150]\n",
        "b = [186, 100, 50, 186, 150, 186, 186, 100, 60, 186, 186, 186]\n",
        "\n",
        "time_window_time = 40\n",
        "\n",
        "for client in range(number_of_clients + 1):\n",
        "    a[client] = random.randint(int(median/2), int(max_time - service_time - median))\n",
        "    b[client] = a[client] + time_window_time\n",
        "\n",
        "a[0] = 0\n",
        "b[0] = max_time\n",
        "print(a[1:])\n",
        "print(b[1:])"
      ]
    },
    {
      "cell_type": "code",
      "execution_count": 10,
      "metadata": {
        "colab": {
          "base_uri": "https://localhost:8080/"
        },
        "id": "wJ2ZNL1I6Up9",
        "outputId": "956c38fe-d32a-4c5b-eeec-73f5454fc4ba"
      },
      "outputs": [
        {
          "output_type": "stream",
          "name": "stdout",
          "text": [
            "Optimal\n",
            "[(0, 2), (2, 8), (3, 10), (5, 3), (6, 5), (8, 6), (10, 11), (0, 1), (1, 7), (4, 9), (7, 4), (9, 11)]\n",
            "[[0, 2, 8, 6, 5, 3, 10, 11], [0, 1, 7, 4, 9, 11]]\n"
          ]
        }
      ],
      "source": [
        "vrptw(number_of_clients, number_of_vehicles, cost_R, a, b, t, cost_T)"
      ]
    },
    {
      "cell_type": "code",
      "execution_count": 11,
      "metadata": {
        "colab": {
          "base_uri": "https://localhost:8080/"
        },
        "id": "Q_FqpJzW6UsK",
        "outputId": "b341ba95-254e-487e-9d25-02f1cf010bd5"
      },
      "outputs": [
        {
          "output_type": "stream",
          "name": "stdout",
          "text": [
            "Optimal\n",
            "[(0, 2), (2, 8), (3, 10), (5, 3), (6, 5), (8, 6), (10, 11), (0, 1), (1, 7), (4, 9), (7, 4), (9, 11)]\n",
            "[[0, 2, 8, 6, 5, 3, 10, 11], [0, 1, 7, 4, 9, 11]]\n"
          ]
        }
      ],
      "source": [
        "vrptw(number_of_clients, number_of_vehicles, cost_G, a, b, t, cost_T)"
      ]
    },
    {
      "cell_type": "markdown",
      "source": [
        "### VRPSDP"
      ],
      "metadata": {
        "id": "mnViaBjsFqNg"
      }
    },
    {
      "cell_type": "code",
      "execution_count": 12,
      "metadata": {
        "id": "cKg9pncsx2RH"
      },
      "outputs": [],
      "source": [
        "demand_of_client = generate_list(number_of_clients + 1, 0.8* capacity_of_vehicle * number_of_vehicles)"
      ]
    },
    {
      "cell_type": "code",
      "execution_count": 13,
      "metadata": {
        "id": "gpsF3eHSKsl1"
      },
      "outputs": [],
      "source": [
        "def find_paths_vrb(edges, k):\n",
        "    def find_path_vrb(current_path):\n",
        "        if len(paths) >= k:\n",
        "            return\n",
        "\n",
        "        last_node = current_path[-1]\n",
        "\n",
        "        if last_node == 0 and len(current_path) > 1:\n",
        "            paths.append(\"->\".join(map(str, current_path)))\n",
        "            return\n",
        "\n",
        "        for edge in edges:\n",
        "            if edge[0] == last_node:\n",
        "                find_path_vrb(current_path + [edge[1]])\n",
        "\n",
        "    paths = []\n",
        "    find_path_vrb([0])\n",
        "\n",
        "    return paths\n",
        "\n",
        "\n",
        "def vrpsdp(number_of_clients, number_of_vehicles, cost_buffor,p,d):\n",
        "  capacity_of_vehicle = 100\n",
        "  vrpsdp = pulp.LpProblem(\"VRPSDP\", pulp.LpMinimize)\n",
        "  m = number_of_vehicles\n",
        "  x = pulp.LpVariable.dicts(\"x\", [(i, j, k) for i in range(number_of_clients+1) for j in range(number_of_clients+1) for k in range(m)], cat='Binary')\n",
        "  y = pulp.LpVariable.dicts(\"y\", [(i, j) for i in range(number_of_clients+1) for j in range(number_of_clients+1)], lowBound=0, cat='Continuous')\n",
        "  z = pulp.LpVariable.dicts(\"z\", [(i, j) for i in range(number_of_clients+1) for j in range(number_of_clients+1)], lowBound=0, cat='Continuous')\n",
        "\n",
        "  vrpsdp += pulp.lpSum(cost_buffor[i][j] * x[i, j, k] for k in range(m) for i in range(number_of_clients+1) for j in range(number_of_clients+1) if i != j)\n",
        "\n",
        "  Q = capacity_of_vehicle\n",
        "\n",
        "  for j in range(1, number_of_clients+1):\n",
        "      vrpsdp += pulp.lpSum(x[i, j, k] for k in range(m) for i in range(number_of_clients+1) if i != j) == 1\n",
        "\n",
        "  for k in range(m):\n",
        "    for j in range(number_of_clients+1):\n",
        "      vrpsdp += pulp.lpSum(x[i,j,k] for i in range(number_of_clients+1)) - pulp.lpSum(x[j,i,k] for i in range(number_of_clients+1)) == 0\n",
        "\n",
        "  for k in range(m):\n",
        "    vrpsdp += pulp.lpSum(x[0,j,k] for j in range(1, number_of_clients+1)) == 1\n",
        "\n",
        "  for j in range(1, number_of_clients+1):\n",
        "    vrpsdp += pulp.lpSum(y[j,i] for i in range(number_of_clients+1)) - pulp.lpSum(y[i,j] for i in range(number_of_clients+1)) == p[j]\n",
        "\n",
        "  for j in range(1, number_of_clients+1):\n",
        "    vrpsdp += pulp.lpSum(z[i,j] for i in range(number_of_clients+1)) - pulp.lpSum(z[j,i] for i in range(number_of_clients+1)) == d[j]\n",
        "\n",
        "  for i in range(number_of_clients+1):\n",
        "    for j in range(number_of_clients+1):\n",
        "      if i != j:\n",
        "        vrpsdp += y[i,j] + z[i,j] <= Q * pulp.lpSum(x[i,j,k] for k in range(m))\n",
        "\n",
        "  vrpsdp += pulp.lpSum(x[0,j,k] for j in range(1, number_of_clients+1) for k in range(m)) == m\n",
        "  for i in range(1,number_of_clients+1):\n",
        "    vrpsdp += pulp.lpSum(x[i,j,k] for j in range(number_of_clients+1) for k in range(m) if i != j) == 1\n",
        "\n",
        "  vrpsdp.solve()\n",
        "\n",
        "  print(pulp.value(vrpsdp.objective))\n",
        "\n",
        "  all_uesd_edges_road = []\n",
        "  paths = [[] for _ in range(number_of_vehicles)]\n",
        "\n",
        "  for k in range(number_of_vehicles):\n",
        "      for i in range(number_of_clients + 1):\n",
        "          for j in range(number_of_clients + 1):\n",
        "              if i != j and pulp.value(x[i,j,k]) == 1:\n",
        "                  all_uesd_edges_road.append((i, j))\n",
        "                  paths[k].append((i, j))\n",
        "  result = find_paths_vrb(all_uesd_edges_road, number_of_vehicles)\n",
        "  print(all_uesd_edges_road)\n",
        "\n",
        "  print(result)"
      ]
    },
    {
      "cell_type": "code",
      "execution_count": 14,
      "metadata": {
        "id": "_z74rxgzKst_"
      },
      "outputs": [],
      "source": [
        "number_of_clients = 10\n",
        "capacity_of_vehicle = 100\n",
        "number_of_vehicles = 2\n",
        "\n",
        "p = generate_list(number_of_clients + 1, 0.85 * capacity_of_vehicle * number_of_vehicles)\n",
        "d = generate_list(number_of_clients + 1, 0.85 * capacity_of_vehicle * number_of_vehicles)"
      ]
    },
    {
      "cell_type": "code",
      "execution_count": 15,
      "metadata": {
        "colab": {
          "base_uri": "https://localhost:8080/"
        },
        "id": "Mi3W9NFtTNTt",
        "outputId": "8b661f4d-6a7f-45c1-ef9c-87b6f94a3ad7"
      },
      "outputs": [
        {
          "output_type": "stream",
          "name": "stdout",
          "text": [
            "[19.01, 5.2, 25.16, 4.15, 21.59, 28.0, 23.82, 23.7, 8.72, 10.65]\n",
            "[23.86, 7.96, 5.69, 21.69, 27.98, 14.59, 19.31, 27.56, 17.46, 3.9000000000000092]\n"
          ]
        }
      ],
      "source": [
        "print(d[1:])\n",
        "print(p[1:])"
      ]
    },
    {
      "cell_type": "code",
      "execution_count": 16,
      "metadata": {
        "colab": {
          "base_uri": "https://localhost:8080/"
        },
        "id": "Rv8JpXdOLVYA",
        "outputId": "ba260b89-8cbc-4b11-89cd-f313d9836480"
      },
      "outputs": [
        {
          "output_type": "stream",
          "name": "stdout",
          "text": [
            "12.0\n",
            "[(0, 8), (3, 4), (4, 9), (6, 3), (8, 6), (9, 0), (0, 2), (1, 5), (2, 7), (5, 10), (7, 1), (10, 0)]\n",
            "['0->8->6->3->4->9->0', '0->2->7->1->5->10->0']\n"
          ]
        }
      ],
      "source": [
        "vrpsdp(number_of_clients, number_of_vehicles, cost_R ,p,d)"
      ]
    },
    {
      "cell_type": "code",
      "execution_count": 17,
      "metadata": {
        "colab": {
          "base_uri": "https://localhost:8080/"
        },
        "id": "eO64OZnDLnLA",
        "outputId": "c7926e8b-cd50-4e57-b357-ad357c835930"
      },
      "outputs": [
        {
          "output_type": "stream",
          "name": "stdout",
          "text": [
            "12.0\n",
            "[(0, 5), (1, 0), (2, 8), (3, 2), (5, 3), (8, 10), (10, 1), (0, 7), (4, 0), (6, 9), (7, 6), (9, 4)]\n",
            "['0->5->3->2->8->10->1->0', '0->7->6->9->4->0']\n"
          ]
        }
      ],
      "source": [
        "p = generate_list(number_of_clients + 1, 0.85 * capacity_of_vehicle * number_of_vehicles)\n",
        "d = generate_list(number_of_clients + 1, 0.85 * capacity_of_vehicle * number_of_vehicles)\n",
        "\n",
        "vrpsdp(number_of_clients, number_of_vehicles, cost_G ,p,d)"
      ]
    },
    {
      "cell_type": "markdown",
      "source": [
        "### VRPB"
      ],
      "metadata": {
        "id": "N5HzEGs3Fugu"
      }
    },
    {
      "cell_type": "code",
      "execution_count": 18,
      "metadata": {
        "id": "QW2cliPVX1W6"
      },
      "outputs": [],
      "source": [
        "def vrpb(number_of_clients, number_of_vehicles, cost_buffor, p_d):\n",
        "    Q = 100\n",
        "    m = number_of_vehicles\n",
        "\n",
        "    L_B = list(range(1, number_of_clients + 1))\n",
        "    SOURCE = 0\n",
        "\n",
        "    L = [index for index, value in enumerate(p) if value == 0]\n",
        "    L0 = L[:]\n",
        "    L0.insert(0,0)\n",
        "    B = [index for index, value in enumerate(d) if value == 0]\n",
        "\n",
        "    B0 = B[:]\n",
        "    B0.insert(0,0)\n",
        "    Cu = L_B\n",
        "\n",
        "    V = list(range(0, number_of_clients + 1))\n",
        "\n",
        "    K = m\n",
        "    D = p_d\n",
        "    Kl = K\n",
        "    Kb = K\n",
        "\n",
        "    s = pulp.LpVariable.dicts('s', [(i, j) for i in V for j in V if i != j], cat = pulp.LpBinary)\n",
        "    e = pulp.LpVariable.dicts('e', [(i, j) for i in L for j in B0 if i != j], cat = pulp.LpBinary)\n",
        "    l = pulp.LpVariable.dicts('l', [(i, j) for i in V for j in V if i != j], 0, cat = \"Continuous\")\n",
        "\n",
        "    model = pulp.LpProblem(\"vehicle_routing\", pulp.LpMinimize)\n",
        "\n",
        "    cost_function_model = pulp.lpSum(s[i,j] * cost_buffor[i][j] for i in V for j in V if i != j) + pulp.lpSum(e[i,j] * cost_buffor[i][j] for i in L for j in B0 if i != j)\n",
        "    model += cost_function_model\n",
        "\n",
        "    model += pulp.lpSum(s[i,j] for i in L0 for j in L if i != j) == len(L)\n",
        "\n",
        "    for j in L:\n",
        "      model += pulp.lpSum(l[i,j] for i in L0 if i != j) - pulp.lpSum(l[j,k] for k in L0 if k != j) == D[j]\n",
        "\n",
        "    for j in L:\n",
        "      model += pulp.lpSum(s[i,j] for i in L0 if i != j) == 1\n",
        "\n",
        "    for j in L:\n",
        "      model += pulp.lpSum(s[j,k] for k in L if k != j) + pulp.lpSum(e[j,k] for k in B0 if k != j)  ==  pulp.lpSum(s[(i,j)] for i in L0 if i != j)\n",
        "\n",
        "    for j in L:\n",
        "      for i in L0:\n",
        "        if i != j:\n",
        "          model += l[(i,j)] <= Q * s[(i,j)]\n",
        "\n",
        "    fraaction7 = pulp.lpSum(D[j] for j in L)/Q\n",
        "    model += pulp.lpSum(s[0,j] for j in L) >= max(float(fraaction7.value()),Kl)\n",
        "\n",
        "    model += pulp.lpSum(s[i,j] for i in B for j in B0 if i != j) == len(B)\n",
        "\n",
        "    for j in B:\n",
        "      model += pulp.lpSum(l[i,j] for i in B if i != j) - pulp.lpSum(l[(j,k)] for k in B0 if k != j) == -D[j]\n",
        "\n",
        "    for j in B:\n",
        "      model += pulp.lpSum(s[j,i] for i in B0 if j != i) == 1\n",
        "\n",
        "    for j in B:\n",
        "      model += pulp.lpSum(s[k,j] for k in B if k != j) + pulp.lpSum(e[k,j] for k in L) == pulp.lpSum(s[(j,i)] for i in B0 if j != i)\n",
        "\n",
        "    for j in B0:\n",
        "      for i in B:\n",
        "        if i != j:\n",
        "          model += l[i,j] <= Q * s[i,j]\n",
        "\n",
        "    fraaction13 = pulp.lpSum(D[j] for j in B)/Q\n",
        "    model += max(int(fraaction13.value()),Kb) <= pulp.lpSum(s[i,0] for i in B)\n",
        "    model += pulp.lpSum(s[(i,0)] for i in B) <= pulp.lpSum(s[0, j] for j in L)\n",
        "\n",
        "    model += pulp.lpSum(s[i,0] for i in B) + pulp.lpSum(e[i, 0] for i in L) == pulp.lpSum(s[0,j] for j in L)\n",
        "\n",
        "    for i in V:\n",
        "      for j in V:\n",
        "        if i != j:\n",
        "          model += s[i,j] + s[j,i] <= 1\n",
        "\n",
        "    model += pulp.lpSum(s[i,j] for i in B for j in L if i != j) == 0\n",
        "\n",
        "    model += pulp.lpSum(s[0, j] for j in B) == 0\n",
        "\n",
        "    model += pulp.lpSum(s[i,j] for i in L for j in B0 if i != j) == 0\n",
        "\n",
        "\n",
        "    solver = pulp.apis.CPLEX_CMD()\n",
        "    model.solve()\n",
        "    print(pulp.value(model.objective))\n",
        "\n",
        "    all_uesd_edges_road = []\n",
        "\n",
        "    for i in V:\n",
        "      for j in V:\n",
        "        if i != j:\n",
        "          if  s[i,j].varValue == 1:\n",
        "            all_uesd_edges_road.append((i,j))\n",
        "\n",
        "    for i in L:\n",
        "      for j in B0:\n",
        "        if i != j:\n",
        "          if  e[i,j].varValue == 1:\n",
        "            all_uesd_edges_road.append((i,j))\n",
        "\n",
        "    print(all_uesd_edges_road)\n",
        "    result = find_paths_vrb(all_uesd_edges_road, 2)\n",
        "\n",
        "    print(result)"
      ]
    },
    {
      "cell_type": "code",
      "execution_count": 19,
      "metadata": {
        "id": "5eBB8SuuX1ZK"
      },
      "outputs": [],
      "source": [
        "number_of_clients = 10\n",
        "number_of_vehicles = 2\n",
        "\n",
        "d = generate_demand_list(number_of_clients + 1, 3, 0.7 * 100 * number_of_vehicles)\n",
        "p_d = replace_zeros_with_sum(d, 0.5 * 100 * number_of_vehicles)\n",
        "p = [-1]\n",
        "\n",
        "for iterator in range(1,len(d)):\n",
        "  if d[iterator] == 0:\n",
        "    p.append(p_d[iterator])\n",
        "  else:\n",
        "    p.append(0)"
      ]
    },
    {
      "cell_type": "code",
      "execution_count": 20,
      "metadata": {
        "colab": {
          "base_uri": "https://localhost:8080/"
        },
        "id": "CTzdzfreYNej",
        "outputId": "6ff4557b-44e6-482a-f623-4a9973e95fee"
      },
      "outputs": [
        {
          "output_type": "stream",
          "name": "stdout",
          "text": [
            "12.0\n",
            "[(0, 4), (0, 8), (1, 2), (2, 10), (3, 0), (4, 5), (6, 0), (7, 3), (8, 1), (10, 9), (5, 6), (9, 7)]\n",
            "['0->4->5->6->0', '0->8->1->2->10->9->7->3->0']\n"
          ]
        }
      ],
      "source": [
        "vrpb(number_of_clients, number_of_vehicles, cost_R, p_d)"
      ]
    },
    {
      "cell_type": "code",
      "execution_count": 21,
      "metadata": {
        "colab": {
          "base_uri": "https://localhost:8080/"
        },
        "id": "YiiEkt8NYNgb",
        "outputId": "9764dd07-80c4-4f73-8eb6-31cf59926f55"
      },
      "outputs": [
        {
          "output_type": "stream",
          "name": "stdout",
          "text": [
            "12.0\n",
            "[(0, 4), (0, 8), (1, 2), (2, 10), (3, 0), (4, 5), (6, 0), (7, 3), (8, 1), (10, 9), (5, 6), (9, 7)]\n",
            "['0->4->5->6->0', '0->8->1->2->10->9->7->3->0']\n"
          ]
        }
      ],
      "source": [
        "vrpb(number_of_clients, number_of_vehicles, cost_G, p_d)"
      ]
    }
  ],
  "metadata": {
    "colab": {
      "provenance": [],
      "collapsed_sections": [
        "_nVIDNJ1FiHG",
        "mnViaBjsFqNg",
        "N5HzEGs3Fugu"
      ]
    },
    "kernelspec": {
      "display_name": "Python 3",
      "name": "python3"
    },
    "language_info": {
      "name": "python"
    }
  },
  "nbformat": 4,
  "nbformat_minor": 0
}