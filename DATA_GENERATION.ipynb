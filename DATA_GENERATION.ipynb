{
  "nbformat": 4,
  "nbformat_minor": 0,
  "metadata": {
    "colab": {
      "provenance": []
    },
    "kernelspec": {
      "name": "python3",
      "display_name": "Python 3"
    },
    "language_info": {
      "name": "python"
    }
  },
  "cells": [
    {
      "cell_type": "code",
      "execution_count": null,
      "metadata": {
        "id": "jvcsoKk1zbxh"
      },
      "outputs": [],
      "source": [
        "import gdown\n",
        "import matplotlib.pyplot as plt\n",
        "import networkx as nx\n",
        "import numpy as np\n",
        "import pprint\n",
        "import random\n",
        "import pandas as pd\n",
        "import pulp\n",
        "import itertools\n",
        "import requests\n",
        "import random\n",
        "from geopy.distance import geodesic\n",
        "import time\n",
        "import pandas as pd\n",
        "import os"
      ]
    },
    {
      "cell_type": "code",
      "source": [
        "# sw_lat = 50.0500\n",
        "# sw_lng = 20.0000\n",
        "# ne_lat = 50.1000\n",
        "# ne_lng = 20.1000\n",
        "\n",
        "sw_lat = 53.477119\n",
        "sw_lng = 9.735120\n",
        "ne_lat = 46.937727\n",
        "ne_lng = 23.621838"
      ],
      "metadata": {
        "id": "f-lY5eAEzhJ8"
      },
      "execution_count": null,
      "outputs": []
    },
    {
      "cell_type": "code",
      "source": [
        "def generate_random_point(sw_lat, sw_lng, ne_lat, ne_lng):\n",
        "    lat = random.uniform(sw_lat, ne_lat)\n",
        "    lng = random.uniform(sw_lng, ne_lng)\n",
        "    return lat, lng\n",
        "\n",
        "def snap_to_road(lat, lng, api_key):\n",
        "    url = f'https://roads.googleapis.com/v1/nearestRoads?points={lat},{lng}&key={api_key}'\n",
        "    response = requests.get(url)\n",
        "    data = response.json()\n",
        "    if 'snappedPoints' in data and len(data['snappedPoints']) > 0:\n",
        "        snapped_point = data['snappedPoints'][0]['location']\n",
        "        return snapped_point['latitude'], snapped_point['longitude']\n",
        "    return None\n",
        "\n",
        "def get_road_distance_time(origin, destination, api_key):\n",
        "    origin_str = f'{origin[0]}, {origin[1]}'\n",
        "    destination_str = f'{destination[0]}, {destination[1]}'\n",
        "    departure_time = int(time.time()) + 24 * 3600\n",
        "    url = (\n",
        "        f'https://maps.googleapis.com/maps/api/distancematrix/json?units=metric&origins={origin_str}'\n",
        "        f'&destinations={destination_str}&mode=driving&departure_time={departure_time}&key={API_KEY}'\n",
        "    )\n",
        "    response = requests.get(url)\n",
        "    data = response.json()\n",
        "\n",
        "    if data['status'] == 'OK':\n",
        "        element = data['rows'][0]['elements'][0]\n",
        "        if element['status'] == 'OK':\n",
        "            distance = element['distance']['text']\n",
        "            duration = element['duration']['text']\n",
        "            return distance, duration\n",
        "        else:\n",
        "            return None, None\n",
        "    else:\n",
        "        return None, None\n",
        "\n",
        "def find_center(sw_lat, sw_lng, ne_lat, ne_lng):\n",
        "    center_lat = (sw_lat + ne_lat) / 2\n",
        "    center_lng = (sw_lng + ne_lng) / 2\n",
        "    return center_lat, center_lng\n",
        "\n",
        "def generate_list(n, target_sum):\n",
        "    if n <= 1:\n",
        "        raise ValueError(\"The length of the list must be greater than 1.\")\n",
        "    if target_sum < 0:\n",
        "        raise ValueError(\"The target sum must be non-negative.\")\n",
        "    result = [0]\n",
        "    random_values = np.random.rand(n - 1)\n",
        "    random_values *= target_sum / np.sum(random_values)\n",
        "    rounded_values = np.round(random_values, 2)\n",
        "    difference = target_sum - np.sum(rounded_values)\n",
        "\n",
        "    if len(rounded_values) > 0:\n",
        "        rounded_values[-1] += difference\n",
        "\n",
        "    result.extend(rounded_values)\n",
        "\n",
        "    return result"
      ],
      "metadata": {
        "id": "d17MKbwOzhMQ"
      },
      "execution_count": null,
      "outputs": []
    },
    {
      "cell_type": "code",
      "source": [
        "center_latitude, center_longitude = find_center(sw_lat, sw_lng, ne_lat, ne_lng)\n",
        "# center_latitude = 48.201134\n",
        "# center_longitude = 16.377229\n",
        "road_points = [snap_to_road(center_latitude, center_longitude, API_KEY)]\n",
        "original_points = [(center_latitude, center_longitude)]\n",
        "attempts = 0\n",
        "number_of_clients = 15\n",
        "\n",
        "while len(road_points) < number_of_clients+1:\n",
        "    attempts += 1\n",
        "    point = generate_random_point(sw_lat, sw_lng, ne_lat, ne_lng)\n",
        "    road_point = snap_to_road(point[0], point[1], API_KEY)\n",
        "\n",
        "    if road_point:\n",
        "        road_points.append(road_point)\n",
        "        original_points.append(point)\n",
        "        print(f\"Point {len(road_points)}: Original = {point[0]}, {point[1]}; Snapped = {road_point[0]}, {road_point[1]}\")\n",
        "    else:\n",
        "          print(f\"Attempt {attempts}: No road found nearby for Latitude = {point[0]}, Longitude = {point[1]}\")\n",
        "\n",
        "data = []\n",
        "\n",
        "for i in range(len(road_points)):\n",
        "    row = {\n",
        "        'Original Latitude': original_points[i][0],\n",
        "        'Original Longitude': original_points[i][1],\n",
        "        'Snapped Latitude': road_points[i][0],\n",
        "        'Snapped Longitude': road_points[i][1]\n",
        "    }\n",
        "\n",
        "    for j in range(len(road_points)):\n",
        "        if i == j:\n",
        "            row[f'Real Distance to Point {j + 1}'] = '0'\n",
        "            row[f'Time to Point {j + 1}'] = '0'\n",
        "            row[f'Road Distance to Point {j + 1}'] = '0'\n",
        "        elif j > i:\n",
        "            straight_distance = geodesic(road_points[i], road_points[j]).kilometers\n",
        "            road_distance, travel_time = get_road_distance_time(road_points[i], road_points[j], API_KEY)\n",
        "\n",
        "            row[f'Real Distance to Point {j + 1}'] = f'{straight_distance:.2f}'\n",
        "            row[f'Time to Point {j + 1}'] = travel_time if travel_time else 'N/A'\n",
        "            row[f'Road Distance to Point {j + 1}'] = road_distance if road_distance else 'N/A'\n",
        "        elif i > j:\n",
        "            straight_distance = geodesic(road_points[j], road_points[i]).kilometers\n",
        "            road_distance, travel_time = get_road_distance_time(road_points[j], road_points[i], API_KEY)\n",
        "\n",
        "            row[f'Real Distance to Point {j + 1}'] = f'{straight_distance:.2f}'\n",
        "            row[f'Time to Point {j + 1}'] = travel_time if travel_time else 'N/A'\n",
        "            row[f'Road Distance to Point {j + 1}'] = road_distance if road_distance else 'N/A'\n",
        "\n",
        "    print(f\"Data snaped for point {i + 1}\")\n",
        "\n",
        "    data.append(row)\n",
        "\n",
        "df = pd.DataFrame(data)"
      ],
      "metadata": {
        "id": "kaAjPY2ZzhOh"
      },
      "execution_count": null,
      "outputs": []
    },
    {
      "cell_type": "code",
      "source": [],
      "metadata": {
        "id": "ZHTcUD2tzhQy"
      },
      "execution_count": null,
      "outputs": []
    }
  ]
}